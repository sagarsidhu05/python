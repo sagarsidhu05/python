{
  "cells": [
    {
      "cell_type": "markdown",
      "id": "145d95e8",
      "metadata": {
        "id": "145d95e8"
      },
      "source": [
        "# **THEORATICAL QUESTIONS**"
      ]
    },
    {
      "cell_type": "markdown",
      "id": "24a9cb74",
      "metadata": {
        "id": "24a9cb74"
      },
      "source": [
        "##1.What are the key differences between SQL and NoSQL databases?\n",
        "| Feature                  | SQL (Relational Databases)                          | NoSQL (Non-Relational Databases)                          |\n",
        "|--------------------------|-----------------------------------------------------|------------------------------------------------------------|\n",
        "| **Data Model**           | Structured (tables with rows and columns)           | Unstructured, semi-structured (JSON, key-value, graph, etc.) |\n",
        "| **Schema**               | Fixed schema (predefined)                           | Dynamic or flexible schema                                 |\n",
        "| **Examples**             | MySQL, PostgreSQL, Oracle, SQLite                   | MongoDB, Cassandra, Redis, CouchDB                         |\n",
        "| **Query Language**       | SQL (Structured Query Language)                     | Varies (e.g., MongoDB uses BSON queries)                   |\n",
        "| **Scalability**          | Vertically scalable                                 | Horizontally scalable                                      |\n",
        "| **ACID Compliance**      | Strong ACID compliance (Atomicity, Consistency, Isolation, Durability) | Weaker or eventual consistency (in some cases)             |\n",
        "| **Joins**                | Supports JOIN operations                            | Limited or no JOIN support                                 |\n",
        "| **Best Use Case**        | Complex queries, transactional systems (banking, ERP) | Big data, real-time apps, content management, IoT          |\n",
        "| **Data Integrity**       | High                                                 | Moderate (depends on type)                                |\n",
        "| **Storage Format**       | Relational tables                                   | Document, key-value, column-family, graph formats          |\n",
        "\n",
        "\n",
        "##2.What makes MongoDB a good choice for modern applications?\n",
        "- MongoDB is a great choice for modern applications because it offers a flexible, document-based schema (JSON-like format) that allows for rapid development and scalability. It handles large volumes of unstructured data efficiently and supports horizontal scaling, making it ideal for real-time, cloud-based, and big data applications.\n",
        "\n",
        "##3.Explain the concept of collections in MongoDB.\n",
        "- In MongoDB, a collection is a group of documents, similar to a table in relational databases. Each document in a collection is a JSON-like object (called BSON) and can have a different structure from others in the same collection. Collections do not require a fixed schema, making them flexible for storing varied or evolving data formats.\n",
        "\n",
        "##4.How does MongoDB ensure high availability using replication?\n",
        "- MongoDB ensures high availability through replica sets, which are groups of servers where one acts as the primary and others as secondaries. The secondaries replicate data from the primary in real-time. If the primary fails, MongoDB automatically elects a new primary, ensuring minimal downtime. This provides fault tolerance, data redundancy, and automatic failover.\n",
        "\n",
        "##5.What are the main benefits of MongoDB Atlas?\n",
        "| Benefit                  | Description                                                                 |\n",
        "|--------------------------|-----------------------------------------------------------------------------|\n",
        "| **Fully Managed Service** | Automates deployment, scaling, backups, and updates                        |\n",
        "| **High Availability**     | Built-in replication and automatic failover ensure minimal downtime        |\n",
        "| **Scalability**           | Easily scales vertically and horizontally across cloud regions             |\n",
        "| **Integrated Security**   | Includes encryption, authentication, and role-based access control         |\n",
        "| **Performance Monitoring**| Real-time metrics, slow query analysis, and automated alerts               |\n",
        "| **Multi-Cloud Support**   | Deploys seamlessly on AWS, Azure, and Google Cloud                         |\n",
        "\n",
        "\n",
        "##6.What is the role of indexes in MongoDB, and how do they improve performance?\n",
        "###  Role of Indexes in MongoDB\n",
        "\n",
        "Indexes in MongoDB are used to improve the speed and efficiency of query operations. Without indexes, MongoDB must scan every document in a collection to find matching results, which is slow for large datasets.\n",
        "\n",
        "Indexes act like a roadmap, allowing MongoDB to quickly locate the required data. They significantly reduce the time taken for read operations such as `find()`, `sort()`, and `aggregate()`.\n",
        "\n",
        "####  Benefits of Indexes:\n",
        "- **Faster Query Performance:** Speeds up data retrieval by avoiding full collection scans.\n",
        "- **Efficient Sorting:** Helps in executing sorted queries quickly.\n",
        "- **Unique Constraints:** Enforces uniqueness on specific fields like `email` or `username`.\n",
        "- **Support for Complex Queries:** Enables optimization of compound queries and\n",
        " range queries.\n",
        "\n",
        "##7.Describe the stages of the MongoDB aggregation pipeline.\n",
        "\n",
        "The MongoDB aggregation pipeline processes data through a sequence of stages, transforming documents step-by-step.\n",
        "\n",
        "####  Key Stages:\n",
        "\n",
        "1. **$match**  \n",
        "   Filters documents based on specified criteria (like `WHERE` in SQL).  \n",
        "   Example: `{ $match: { status: \"active\" } }`\n",
        "\n",
        "2. **$group**  \n",
        "   Groups documents by a field and performs operations like sum, avg, count, etc.  \n",
        "   Example: `{ $group: { _id: \"$department\", total: { $sum: 1 } } }`\n",
        "\n",
        "3. **$project**  \n",
        "   Reshapes documents, includes/excludes fields, or creates computed fields.  \n",
        "   Example: `{ $project: { name: 1, totalSales: { $multiply: [\"$price\", \"$quantity\"] } } }`\n",
        "\n",
        "4. **$sort**  \n",
        "   Sorts documents in ascending or descending order.  \n",
        "   Example: `{ $sort: { totalSales: -1 } }`\n",
        "\n",
        "5. **$limit**  \n",
        "   Limits the number of documents in the output.  \n",
        "   Example: `{ $limit: 5 }`\n",
        "\n",
        "6. **$skip**  \n",
        "   Skips a specified number of documents (useful for pagination).  \n",
        "   Example: `{ $skip: 10 }`\n",
        "\n",
        "7. **$lookup**  \n",
        "   Performs a left outer join with another collection.  \n",
        "   Example: Join orders with users using user_id.\n",
        "\n",
        "\n",
        "##8. What is sharding in MongoDB? How does it differ from replication?\n",
        "- Sharding in MongoDB is a method of distributing large datasets across multiple machines to improve scalability and performance. It splits data into chunks using a shard key and stores them across different shards. In contrast, replication is used to ensure high availability by copying the same data across multiple servers (replica set). While sharding distributes data, replication duplicates it for fault tolerance.\n",
        "\n",
        "##9. What is PyMongo, and why is it used?\n",
        "- PyMongo is the official Python driver for MongoDB. It allows Python applications to connect to, query, insert, update, and manage data in MongoDB databases. PyMongo is used because it provides a simple and efficient interface for interacting with MongoDB directly from Python code, making it ideal for building data-driven applications.\n",
        "\n",
        "##10.What are the ACID properties in the context of MongoDB transactions?\n",
        "\n",
        "- MongoDB supports ACID transactions to ensure safe, consistent, and reliable data operations, especially across multiple documents and collections.\n",
        "\n",
        "\n",
        "\n",
        "- **Atomicity**  \n",
        "  All operations within a transaction are completed successfully or none are applied at all.\n",
        "\n",
        "- **Consistency**  \n",
        "  The database remains in a valid state before and after the transaction, preserving defined rules and constraints.\n",
        "\n",
        "- **Isolation**  \n",
        "  Transactions are isolated from each other, meaning their intermediate states are not visible to others.\n",
        "\n",
        "- **Durability**  \n",
        "  Once a transaction is committed, its changes are permanently saved—even in the event of a crash or power failure.\n",
        "\n",
        "##11.What is the purpose of MongoDB’s explain() function?\n",
        "- The purpose of MongoDB’s explain() function is to analyze and understand how a query is executed. It provides detailed information about the query plan, such as whether indexes are used, how many documents were scanned, and the time taken. This helps developers optimize performance by identifying inefficient queries or missing indexes.\n",
        "\n",
        "##12.How does MongoDB handle schema validation?\n",
        "- MongoDB handles schema validation using JSON Schema-based rules defined at the collection level. This allows developers to enforce structure, data types, required fields, and custom rules for documents inserted or updated in a collection.\n",
        "\n",
        "##13.What is the difference between a primary and a secondary node in a replica set?\n",
        "\n",
        "| Feature               | Primary Node                               | Secondary Node                             |\n",
        "|-----------------------|---------------------------------------------|---------------------------------------------|\n",
        "| **Role**              | Handles all write and default read operations | Replicates data from the primary            |\n",
        "| **Writes**            | Allowed                                     | Not allowed (unless explicitly enabled)     |\n",
        "| **Reads**             | Default read target                         | Can be used for reads (if configured)       |\n",
        "| **Failover**          | Elected as primary in normal operation      | Can be promoted to primary during failover  |\n",
        "| **Data Replication**  | Source of truth                             | Continuously syncs from primary             |\n",
        "\n",
        "##14.What security mechanisms does MongoDB provide for data protection?\n",
        "\n",
        "MongoDB provides several built-in security features to protect data:\n",
        "\n",
        "- **Authentication**  \n",
        "  Verifies the identity of users and applications using credentials or external systems (LDAP, Kerberos, etc.).\n",
        "\n",
        "- **Authorization**  \n",
        "  Role-Based Access Control (RBAC) allows fine-grained permissions on databases, collections, and operations.\n",
        "\n",
        "- **Encryption**  \n",
        "  - **At Rest**: Data files can be encrypted using encryption-at-rest options.\n",
        "  - **In Transit**: TLS/SSL ensures secure data transfer between clients and servers.\n",
        "\n",
        "- **Auditing**  \n",
        "  Tracks and logs database activity for compliance and security analysis.\n",
        "\n",
        "- **IP Whitelisting & Network Rules**  \n",
        "  Limits access to trusted IP addresses or internal networks.\n",
        "\n",
        "- **Field-Level Redaction (Enterprise)**  \n",
        "  Controls visibility of sensitive fields in documents.\n",
        "\n",
        "##15.Explain the concept of embedded documents and when they should be used.\n",
        "- Embedded documents in MongoDB are documents stored inside other documents. They are used to keep related data together in a single document, making data access faster and more efficient. You should use embedded documents when there is a close relationship between the data, such as a user and their address, and when you often need to access both together. This helps reduce the number of queries and improves performance.\n",
        "\n",
        "##16.What is the purpose of MongoDB’s lookup stage in aggregation?\n",
        "- The purpose of MongoDB’s $lookup stage in aggregation is to perform a left outer join between documents from two collections. It allows you to combine related data, similar to SQL joins. For example, you can join an orders collection with a users collection to get user details for each order. This is useful when data is stored in separate collections but needs to be queried together.\n",
        "\n",
        "##17.What are some common use cases for MongoDB?\n",
        "- MongoDB is commonly used for applications that require flexible, scalable, and high-performance data storage. It’s ideal for content management systems, real-time analytics, IoT applications, catalogs, e-commerce platforms, and mobile or social apps. Its flexible schema and ability to handle large volumes of unstructured data make it perfect for rapidly changing and data-rich environments.\n",
        "\n",
        "##18. What are the advantages of using MongoDB for horizontal scaling?\n",
        "MongoDB supports horizontal scaling through **sharding**, allowing data to be distributed across multiple servers.\n",
        "\n",
        "### Key Advantages:\n",
        "\n",
        "- **Handles Large Datasets**  \n",
        "  Sharding allows MongoDB to store and process huge volumes of data by spreading it across shards.\n",
        "\n",
        "- **Improves Performance**  \n",
        "  Queries can be parallelized across shards, reducing response times.\n",
        "\n",
        "- **High Availability**  \n",
        "  Each shard can be replicated, ensuring fault tolerance and minimal downtime.\n",
        "\n",
        "- **Flexible Growth**  \n",
        "  Easily add more shards (servers) as data or traffic grows, without downtime.\n",
        "\n",
        "- **Cost-Effective Scaling**  \n",
        "  Use commodity hardware instead of expensive high-end servers.\n",
        "\n",
        "##19. How do MongoDB transactions differ from SQL transactions?\n",
        "\n",
        "| Feature                | MongoDB Transactions                           | SQL Transactions                                |\n",
        "|------------------------|--------------------------------------------------|--------------------------------------------------|\n",
        "| **Data Model**         | Document-based (NoSQL)                          | Table-based (Relational)                         |\n",
        "| **Transaction Scope**  | Single or multiple documents (since v4.0+)      | Multiple rows across multiple tables             |\n",
        "| **ACID Support**       | Supported (from v4.0)                           | Fully supported                                  |\n",
        "| **Schema Flexibility** | Schema-less, uses embedded documents            | Fixed schema, normalized structure               |\n",
        "| **Use Case**           | Used when operations span multiple documents    | Commonly used in multi-table operations          |\n",
        "| **Performance**        | Optimized for most operations without transactions | Designed around transactional integrity       |\n",
        "\n",
        "##20.What are the main differences between capped collections and regular collections?\n",
        "\n",
        "| Feature                  | Capped Collections                                 | Regular Collections                         |\n",
        "|--------------------------|----------------------------------------------------|---------------------------------------------|\n",
        "| **Storage Size**         | Fixed size (pre-allocated)                         | Grows dynamically                            |\n",
        "| **Document Removal**     | Oldest documents automatically overwritten         | Documents must be manually deleted           |\n",
        "| **Insertion Order**      | Preserves insertion order                          | No guarantee of insertion order              |\n",
        "| **Update Behavior**      | Cannot increase document size after insertion      | Allows document size to change               |\n",
        "| **Use Case**             | Ideal for logs, real-time data, and circular queues | Suitable for general-purpose data storage    |\n",
        "| **Performance**          | High performance for inserts and reads (circular buffer) | Performance depends on workload         |\n",
        "\n",
        "##21.What is the purpose of the match stage in MongoDB’s aggregation pipeline?\n",
        "- The purpose of the $match stage in MongoDB’s aggregation pipeline is to filter documents based on specific conditions, similar to the WHERE clause in SQL. It allows only those documents that meet the criteria to pass to the next stage in the pipeline, improving performance by reducing the amount of data processed in later stages.\n",
        "\n",
        "##22.How can you secure access to a MongoDB database?\n",
        "\n",
        "To protect a MongoDB database from unauthorized access, follow these key security practices:\n",
        "\n",
        "- **Enable Authentication**  \n",
        "  Require users to log in with a username and password.\n",
        "\n",
        "- **Use Role-Based Access Control (RBAC)**  \n",
        "  Assign specific roles and permissions to users based on their responsibilities.\n",
        "\n",
        "- **Enable TLS/SSL Encryption**  \n",
        "  Encrypt data in transit to prevent interception during communication.\n",
        "\n",
        "- **Use Firewalls and IP Whitelisting**  \n",
        "  Restrict database access to trusted IP addresses or networks only.\n",
        "\n",
        "- **Enable Auditing**  \n",
        "  Track and log database activities for monitoring and compliance.\n",
        "\n",
        "- **Keep MongoDB Updated**  \n",
        "  Regularly update MongoDB to patch known vulnerabilities.\n",
        "\n",
        "##23.What is MongoDB’s WiredTiger storage engine, and why is it important?\n",
        "- WiredTiger is MongoDB’s default storage engine that provides high performance and efficient data management. It supports features like document-level locking, compression, and concurrent read/write operations, which help improve throughput and reduce storage space. WiredTiger is important because it enables scalability, faster access, and better resource utilization, especially for modern, high-load applications.\n",
        "\n",
        "\n",
        "\n",
        "\n",
        "\n",
        "\n",
        "\n",
        "\n",
        "\n",
        "\n",
        "\n",
        "\n",
        "\n",
        "\n",
        "\n",
        "\n",
        "\n",
        "\n",
        "\n",
        ""
      ]
    },
    {
      "cell_type": "markdown",
      "id": "a23ef437",
      "metadata": {
        "id": "a23ef437"
      },
      "source": [
        "# **PRACRICAL QUESTIONS**"
      ]
    },
    {
      "cell_type": "markdown",
      "id": "0ac484b3",
      "metadata": {
        "id": "0ac484b3"
      },
      "source": [
        "##1.Write a Python script to load the Superstore dataset from a CSV file into MongoDB"
      ]
    },
    {
      "cell_type": "code",
      "execution_count": null,
      "id": "d75d2004",
      "metadata": {
        "id": "d75d2004",
        "outputId": "b9494d25-1227-40b7-fdc8-a7c01f4b4c3a"
      },
      "outputs": [
        {
          "name": "stdout",
          "output_type": "stream",
          "text": [
            "Superstore dataset successfully loaded into MongoDB!\n"
          ]
        }
      ],
      "source": [
        "import pandas as pd\n",
        "from pymongo import MongoClient\n",
        "\n",
        "file_path = \"superstore.csv\"\n",
        "df = pd.read_csv(file_path,encoding='latin1')\n",
        "\n",
        "data = df.to_dict(orient='records')\n",
        "\n",
        "\n",
        "client = MongoClient(\"mongodb://localhost:27017/\")\n",
        "db = client[\"STORE\"]\n",
        "collection = db[\"orders\"]\n",
        "\n",
        "collection.insert_many(data)\n",
        "\n",
        "print(\"Superstore dataset successfully loaded into MongoDB!\")\n"
      ]
    },
    {
      "cell_type": "markdown",
      "id": "1257c9f1",
      "metadata": {
        "id": "1257c9f1"
      },
      "source": [
        "##2. Retrieve and print all documents from the Orders collection"
      ]
    },
    {
      "cell_type": "code",
      "execution_count": null,
      "id": "ab3522d0",
      "metadata": {
        "id": "ab3522d0",
        "outputId": "3e89e36d-4ce8-4c4e-a228-f7f56d63076b"
      },
      "outputs": [
        {
          "name": "stdout",
          "output_type": "stream",
          "text": [
            "{'_id': ObjectId('6891bd4ab81df53b58179719'), 'Row ID': 1, 'Order ID': 'CA-2016-152156', 'Order Date': '11/8/2016', 'Ship Date': '11/11/2016', 'Ship Mode': 'Second Class', 'Customer ID': 'CG-12520', 'Customer Name': 'Claire Gute', 'Segment': 'Consumer', 'Country': 'United States', 'City': 'Henderson', 'State': 'Kentucky', 'Postal Code': 42420, 'Region': 'South', 'Product ID': 'FUR-BO-10001798', 'Category': 'Furniture', 'Sub-Category': 'Bookcases', 'Product Name': 'Bush Somerset Collection Bookcase', 'Sales': 261.96, 'Quantity': 2, 'Discount': 0, 'Profit': 41.9136}\n",
            "{'_id': ObjectId('6891bd4ab81df53b5817971a'), 'Row ID': 2, 'Order ID': 'CA-2016-152156', 'Order Date': '11/8/2016', 'Ship Date': '11/11/2016', 'Ship Mode': 'Second Class', 'Customer ID': 'CG-12520', 'Customer Name': 'Claire Gute', 'Segment': 'Consumer', 'Country': 'United States', 'City': 'Henderson', 'State': 'Kentucky', 'Postal Code': 42420, 'Region': 'South', 'Product ID': 'FUR-CH-10000454', 'Category': 'Furniture', 'Sub-Category': 'Chairs', 'Product Name': 'Hon Deluxe Fabric Upholstered Stacking Chairs, Rounded Back', 'Sales': 731.94, 'Quantity': 3, 'Discount': 0, 'Profit': 219.582}\n",
            "{'_id': ObjectId('6891bd4ab81df53b5817971c'), 'Row ID': 4, 'Order ID': 'US-2015-108966', 'Order Date': '10/11/2015', 'Ship Date': '10/18/2015', 'Ship Mode': 'Standard Class', 'Customer ID': 'SO-20335', 'Customer Name': \"Sean O'Donnell\", 'Segment': 'Consumer', 'Country': 'United States', 'City': 'Fort Lauderdale', 'State': 'Florida', 'Postal Code': 33311, 'Region': 'South', 'Product ID': 'FUR-TA-10000577', 'Category': 'Furniture', 'Sub-Category': 'Tables', 'Product Name': 'Bretford CR4500 Series Slim Rectangular Table', 'Sales': 957.5775, 'Quantity': 5, 'Discount': 0.45, 'Profit': -383.031}\n",
            "{'_id': ObjectId('6891bd4ab81df53b58179720'), 'Row ID': 8, 'Order ID': 'CA-2014-115812', 'Order Date': '6/9/2014', 'Ship Date': '6/14/2014', 'Ship Mode': 'Standard Class', 'Customer ID': 'BH-11710', 'Customer Name': 'Brosina Hoffman', 'Segment': 'Consumer', 'Country': 'United States', 'City': 'Los Angeles', 'State': 'California', 'Postal Code': 90032, 'Region': 'West', 'Product ID': 'TEC-PH-10002275', 'Category': 'Technology', 'Sub-Category': 'Phones', 'Product Name': 'Mitel 5320 IP Phone VoIP phone', 'Sales': 907.152, 'Quantity': 6, 'Discount': 0.2, 'Profit': 90.7152}\n",
            "{'_id': ObjectId('6891bd4ab81df53b58179722'), 'Row ID': 10, 'Order ID': 'CA-2014-115812', 'Order Date': '6/9/2014', 'Ship Date': '6/14/2014', 'Ship Mode': 'Standard Class', 'Customer ID': 'BH-11710', 'Customer Name': 'Brosina Hoffman', 'Segment': 'Consumer', 'Country': 'United States', 'City': 'Los Angeles', 'State': 'California', 'Postal Code': 90032, 'Region': 'West', 'Product ID': 'OFF-AP-10002892', 'Category': 'Office Supplies', 'Sub-Category': 'Appliances', 'Product Name': 'Belkin F5C206VTEL 6 Outlet Surge', 'Sales': 114.9, 'Quantity': 5, 'Discount': 0, 'Profit': 34.47}\n",
            "{'_id': ObjectId('6891bd4ab81df53b58179723'), 'Row ID': 11, 'Order ID': 'CA-2014-115812', 'Order Date': '6/9/2014', 'Ship Date': '6/14/2014', 'Ship Mode': 'Standard Class', 'Customer ID': 'BH-11710', 'Customer Name': 'Brosina Hoffman', 'Segment': 'Consumer', 'Country': 'United States', 'City': 'Los Angeles', 'State': 'California', 'Postal Code': 90032, 'Region': 'West', 'Product ID': 'FUR-TA-10001539', 'Category': 'Furniture', 'Sub-Category': 'Tables', 'Product Name': 'Chromcraft Rectangular Conference Tables', 'Sales': 1706.184, 'Quantity': 9, 'Discount': 0.2, 'Profit': 85.3092}\n",
            "{'_id': ObjectId('6891bd4ab81df53b58179724'), 'Row ID': 12, 'Order ID': 'CA-2014-115812', 'Order Date': '6/9/2014', 'Ship Date': '6/14/2014', 'Ship Mode': 'Standard Class', 'Customer ID': 'BH-11710', 'Customer Name': 'Brosina Hoffman', 'Segment': 'Consumer', 'Country': 'United States', 'City': 'Los Angeles', 'State': 'California', 'Postal Code': 90032, 'Region': 'West', 'Product ID': 'TEC-PH-10002033', 'Category': 'Technology', 'Sub-Category': 'Phones', 'Product Name': 'Konftel 250 Conference\\xa0phone\\xa0- Charcoal black', 'Sales': 911.424, 'Quantity': 4, 'Discount': 0.2, 'Profit': 68.3568}\n",
            "{'_id': ObjectId('6891bd4ab81df53b58179726'), 'Row ID': 14, 'Order ID': 'CA-2016-161389', 'Order Date': '12/5/2016', 'Ship Date': '12/10/2016', 'Ship Mode': 'Standard Class', 'Customer ID': 'IM-15070', 'Customer Name': 'Irene Maddox', 'Segment': 'Consumer', 'Country': 'United States', 'City': 'Seattle', 'State': 'Washington', 'Postal Code': 98103, 'Region': 'West', 'Product ID': 'OFF-BI-10003656', 'Category': 'Office Supplies', 'Sub-Category': 'Binders', 'Product Name': 'Fellowes PB200 Plastic Comb Binding Machine', 'Sales': 407.976, 'Quantity': 3, 'Discount': 0.2, 'Profit': 132.5922}\n",
            "{'_id': ObjectId('6891bd4ab81df53b58179727'), 'Row ID': 15, 'Order ID': 'US-2015-118983', 'Order Date': '11/22/2015', 'Ship Date': '11/26/2015', 'Ship Mode': 'Standard Class', 'Customer ID': 'HP-14815', 'Customer Name': 'Harold Pawlan', 'Segment': 'Home Office', 'Country': 'United States', 'City': 'Fort Worth', 'State': 'Texas', 'Postal Code': 76106, 'Region': 'Central', 'Product ID': 'OFF-AP-10002311', 'Category': 'Office Supplies', 'Sub-Category': 'Appliances', 'Product Name': 'Holmes Replacement Filter for HEPA Air Cleaner, Very Large Room, HEPA Filter', 'Sales': 68.81, 'Quantity': 5, 'Discount': 0.8, 'Profit': -123.858}\n",
            "{'_id': ObjectId('6891bd4ab81df53b58179729'), 'Row ID': 17, 'Order ID': 'CA-2014-105893', 'Order Date': '11/11/2014', 'Ship Date': '11/18/2014', 'Ship Mode': 'Standard Class', 'Customer ID': 'PK-19075', 'Customer Name': 'Pete Kriz', 'Segment': 'Consumer', 'Country': 'United States', 'City': 'Madison', 'State': 'Wisconsin', 'Postal Code': 53711, 'Region': 'Central', 'Product ID': 'OFF-ST-10004186', 'Category': 'Office Supplies', 'Sub-Category': 'Storage', 'Product Name': 'Stur-D-Stor Shelving, Vertical 5-Shelf: 72\"H x 36\"W x 18 1/2\"D', 'Sales': 665.88, 'Quantity': 6, 'Discount': 0, 'Profit': 13.3176}\n"
          ]
        }
      ],
      "source": [
        "from pymongo import MongoClient\n",
        "client = MongoClient(\"mongodb://localhost:27017/\")\n",
        "db = client[\"STORE\"]\n",
        "collection = db[\"Orders\"]\n",
        "\n",
        "all_docs = collection.find().limit(10)\n",
        "\n",
        "for doc in all_docs:\n",
        "    print(doc)\n"
      ]
    },
    {
      "cell_type": "markdown",
      "id": "51611e54",
      "metadata": {
        "id": "51611e54"
      },
      "source": [
        "##3.Count and display the total number of documents in the Orders collection"
      ]
    },
    {
      "cell_type": "code",
      "execution_count": null,
      "id": "06abdd42",
      "metadata": {
        "id": "06abdd42",
        "outputId": "36a822fb-7fe9-4eda-89e7-a80751b971fb"
      },
      "outputs": [
        {
          "name": "stdout",
          "output_type": "stream",
          "text": [
            "Total number of documents  collection: 5145\n"
          ]
        }
      ],
      "source": [
        "from pymongo import MongoClient\n",
        "client = MongoClient(\"mongodb://localhost:27017/\")\n",
        "db = client[\"STORE\"]\n",
        "collection = db[\"Orders\"]\n",
        "total_documents = collection.count_documents({})\n",
        "\n",
        "print(\"Total number of documents  collection:\", total_documents)\n"
      ]
    },
    {
      "cell_type": "markdown",
      "id": "358038f1",
      "metadata": {
        "id": "358038f1"
      },
      "source": [
        "##4.Write a query to fetch all orders from the \"West\" region"
      ]
    },
    {
      "cell_type": "code",
      "execution_count": null,
      "id": "200785f9",
      "metadata": {
        "id": "200785f9",
        "outputId": "41b9ade2-0121-432b-f95d-610dfa7380eb"
      },
      "outputs": [
        {
          "name": "stdout",
          "output_type": "stream",
          "text": [
            "{'_id': ObjectId('6891bd4ab81df53b58179720'), 'Row ID': 8, 'Order ID': 'CA-2014-115812', 'Order Date': '6/9/2014', 'Ship Date': '6/14/2014', 'Ship Mode': 'Standard Class', 'Customer ID': 'BH-11710', 'Customer Name': 'Brosina Hoffman', 'Segment': 'Consumer', 'Country': 'United States', 'City': 'Los Angeles', 'State': 'California', 'Postal Code': 90032, 'Region': 'West', 'Product ID': 'TEC-PH-10002275', 'Category': 'Technology', 'Sub-Category': 'Phones', 'Product Name': 'Mitel 5320 IP Phone VoIP phone', 'Sales': 907.152, 'Quantity': 6, 'Discount': 0.2, 'Profit': 90.7152}\n",
            "{'_id': ObjectId('6891bd4ab81df53b58179722'), 'Row ID': 10, 'Order ID': 'CA-2014-115812', 'Order Date': '6/9/2014', 'Ship Date': '6/14/2014', 'Ship Mode': 'Standard Class', 'Customer ID': 'BH-11710', 'Customer Name': 'Brosina Hoffman', 'Segment': 'Consumer', 'Country': 'United States', 'City': 'Los Angeles', 'State': 'California', 'Postal Code': 90032, 'Region': 'West', 'Product ID': 'OFF-AP-10002892', 'Category': 'Office Supplies', 'Sub-Category': 'Appliances', 'Product Name': 'Belkin F5C206VTEL 6 Outlet Surge', 'Sales': 114.9, 'Quantity': 5, 'Discount': 0, 'Profit': 34.47}\n",
            "{'_id': ObjectId('6891bd4ab81df53b58179723'), 'Row ID': 11, 'Order ID': 'CA-2014-115812', 'Order Date': '6/9/2014', 'Ship Date': '6/14/2014', 'Ship Mode': 'Standard Class', 'Customer ID': 'BH-11710', 'Customer Name': 'Brosina Hoffman', 'Segment': 'Consumer', 'Country': 'United States', 'City': 'Los Angeles', 'State': 'California', 'Postal Code': 90032, 'Region': 'West', 'Product ID': 'FUR-TA-10001539', 'Category': 'Furniture', 'Sub-Category': 'Tables', 'Product Name': 'Chromcraft Rectangular Conference Tables', 'Sales': 1706.184, 'Quantity': 9, 'Discount': 0.2, 'Profit': 85.3092}\n",
            "{'_id': ObjectId('6891bd4ab81df53b58179724'), 'Row ID': 12, 'Order ID': 'CA-2014-115812', 'Order Date': '6/9/2014', 'Ship Date': '6/14/2014', 'Ship Mode': 'Standard Class', 'Customer ID': 'BH-11710', 'Customer Name': 'Brosina Hoffman', 'Segment': 'Consumer', 'Country': 'United States', 'City': 'Los Angeles', 'State': 'California', 'Postal Code': 90032, 'Region': 'West', 'Product ID': 'TEC-PH-10002033', 'Category': 'Technology', 'Sub-Category': 'Phones', 'Product Name': 'Konftel 250 Conference\\xa0phone\\xa0- Charcoal black', 'Sales': 911.424, 'Quantity': 4, 'Discount': 0.2, 'Profit': 68.3568}\n",
            "{'_id': ObjectId('6891bd4ab81df53b58179726'), 'Row ID': 14, 'Order ID': 'CA-2016-161389', 'Order Date': '12/5/2016', 'Ship Date': '12/10/2016', 'Ship Mode': 'Standard Class', 'Customer ID': 'IM-15070', 'Customer Name': 'Irene Maddox', 'Segment': 'Consumer', 'Country': 'United States', 'City': 'Seattle', 'State': 'Washington', 'Postal Code': 98103, 'Region': 'West', 'Product ID': 'OFF-BI-10003656', 'Category': 'Office Supplies', 'Sub-Category': 'Binders', 'Product Name': 'Fellowes PB200 Plastic Comb Binding Machine', 'Sales': 407.976, 'Quantity': 3, 'Discount': 0.2, 'Profit': 132.5922}\n",
            "{'_id': ObjectId('6891bd4ab81df53b5817972a'), 'Row ID': 18, 'Order ID': 'CA-2014-167164', 'Order Date': '5/13/2014', 'Ship Date': '5/15/2014', 'Ship Mode': 'Second Class', 'Customer ID': 'AG-10270', 'Customer Name': 'Alejandro Grove', 'Segment': 'Consumer', 'Country': 'United States', 'City': 'West Jordan', 'State': 'Utah', 'Postal Code': 84084, 'Region': 'West', 'Product ID': 'OFF-ST-10000107', 'Category': 'Office Supplies', 'Sub-Category': 'Storage', 'Product Name': 'Fellowes Super Stor/Drawer', 'Sales': 55.5, 'Quantity': 2, 'Discount': 0, 'Profit': 9.99}\n",
            "{'_id': ObjectId('6891bd4ab81df53b5817972c'), 'Row ID': 20, 'Order ID': 'CA-2014-143336', 'Order Date': '8/27/2014', 'Ship Date': '9/1/2014', 'Ship Mode': 'Second Class', 'Customer ID': 'ZD-21925', 'Customer Name': 'Zuschuss Donatelli', 'Segment': 'Consumer', 'Country': 'United States', 'City': 'San Francisco', 'State': 'California', 'Postal Code': 94109, 'Region': 'West', 'Product ID': 'TEC-PH-10001949', 'Category': 'Technology', 'Sub-Category': 'Phones', 'Product Name': 'Cisco SPA 501G IP Phone', 'Sales': 213.48, 'Quantity': 3, 'Discount': 0.2, 'Profit': 16.011}\n",
            "{'_id': ObjectId('6891bd4ab81df53b58179731'), 'Row ID': 25, 'Order ID': 'CA-2015-106320', 'Order Date': '9/25/2015', 'Ship Date': '9/30/2015', 'Ship Mode': 'Standard Class', 'Customer ID': 'EB-13870', 'Customer Name': 'Emily Burns', 'Segment': 'Consumer', 'Country': 'United States', 'City': 'Orem', 'State': 'Utah', 'Postal Code': 84057, 'Region': 'West', 'Product ID': 'FUR-TA-10000577', 'Category': 'Furniture', 'Sub-Category': 'Tables', 'Product Name': 'Bretford CR4500 Series Slim Rectangular Table', 'Sales': 1044.63, 'Quantity': 3, 'Discount': 0, 'Profit': 240.2649}\n",
            "{'_id': ObjectId('6891bd4ab81df53b58179733'), 'Row ID': 27, 'Order ID': 'CA-2016-121755', 'Order Date': '1/16/2016', 'Ship Date': '1/20/2016', 'Ship Mode': 'Second Class', 'Customer ID': 'EH-13945', 'Customer Name': 'Eric Hoffmann', 'Segment': 'Consumer', 'Country': 'United States', 'City': 'Los Angeles', 'State': 'California', 'Postal Code': 90049, 'Region': 'West', 'Product ID': 'TEC-AC-10003027', 'Category': 'Technology', 'Sub-Category': 'Accessories', 'Product Name': 'Imation\\xa08GB Mini TravelDrive USB 2.0\\xa0Flash Drive', 'Sales': 90.57, 'Quantity': 3, 'Discount': 0, 'Profit': 11.7741}\n",
            "{'_id': ObjectId('6891bd4ab81df53b58179743'), 'Row ID': 43, 'Order ID': 'CA-2016-101343', 'Order Date': '7/17/2016', 'Ship Date': '7/22/2016', 'Ship Mode': 'Standard Class', 'Customer ID': 'RA-19885', 'Customer Name': 'Ruben Ausman', 'Segment': 'Corporate', 'Country': 'United States', 'City': 'Los Angeles', 'State': 'California', 'Postal Code': 90049, 'Region': 'West', 'Product ID': 'OFF-ST-10003479', 'Category': 'Office Supplies', 'Sub-Category': 'Storage', 'Product Name': 'Eldon Base for stackable storage shelf, platinum', 'Sales': 77.88, 'Quantity': 2, 'Discount': 0, 'Profit': 3.894}\n"
          ]
        }
      ],
      "source": [
        "from pymongo import MongoClient\n",
        "client = MongoClient(\"mongodb://localhost:27017/\")\n",
        "db = client[\"STORE\"]\n",
        "collection = db[\"Orders\"]\n",
        "west_orders = collection.find({\"Region\": \"West\"}).limit(10)\n",
        "\n",
        "# Print all results\n",
        "for order in west_orders:\n",
        "    print(order)\n"
      ]
    },
    {
      "cell_type": "markdown",
      "id": "a6dfdd05",
      "metadata": {
        "id": "a6dfdd05"
      },
      "source": [
        "##5. Write a query to find orders where Sales is greater than 500"
      ]
    },
    {
      "cell_type": "code",
      "execution_count": null,
      "id": "d9654881",
      "metadata": {
        "id": "d9654881",
        "outputId": "09621424-5d6b-4df5-fc84-df793f56422a"
      },
      "outputs": [
        {
          "name": "stdout",
          "output_type": "stream",
          "text": [
            "{'_id': ObjectId('6891bd4ab81df53b5817971a'), 'Row ID': 2, 'Order ID': 'CA-2016-152156', 'Order Date': '11/8/2016', 'Ship Date': '11/11/2016', 'Ship Mode': 'Second Class', 'Customer ID': 'CG-12520', 'Customer Name': 'Claire Gute', 'Segment': 'Consumer', 'Country': 'United States', 'City': 'Henderson', 'State': 'Kentucky', 'Postal Code': 42420, 'Region': 'South', 'Product ID': 'FUR-CH-10000454', 'Category': 'Furniture', 'Sub-Category': 'Chairs', 'Product Name': 'Hon Deluxe Fabric Upholstered Stacking Chairs, Rounded Back', 'Sales': 731.94, 'Quantity': 3, 'Discount': 0, 'Profit': 219.582}\n",
            "{'_id': ObjectId('6891bd4ab81df53b5817971c'), 'Row ID': 4, 'Order ID': 'US-2015-108966', 'Order Date': '10/11/2015', 'Ship Date': '10/18/2015', 'Ship Mode': 'Standard Class', 'Customer ID': 'SO-20335', 'Customer Name': \"Sean O'Donnell\", 'Segment': 'Consumer', 'Country': 'United States', 'City': 'Fort Lauderdale', 'State': 'Florida', 'Postal Code': 33311, 'Region': 'South', 'Product ID': 'FUR-TA-10000577', 'Category': 'Furniture', 'Sub-Category': 'Tables', 'Product Name': 'Bretford CR4500 Series Slim Rectangular Table', 'Sales': 957.5775, 'Quantity': 5, 'Discount': 0.45, 'Profit': -383.031}\n",
            "{'_id': ObjectId('6891bd4ab81df53b58179720'), 'Row ID': 8, 'Order ID': 'CA-2014-115812', 'Order Date': '6/9/2014', 'Ship Date': '6/14/2014', 'Ship Mode': 'Standard Class', 'Customer ID': 'BH-11710', 'Customer Name': 'Brosina Hoffman', 'Segment': 'Consumer', 'Country': 'United States', 'City': 'Los Angeles', 'State': 'California', 'Postal Code': 90032, 'Region': 'West', 'Product ID': 'TEC-PH-10002275', 'Category': 'Technology', 'Sub-Category': 'Phones', 'Product Name': 'Mitel 5320 IP Phone VoIP phone', 'Sales': 907.152, 'Quantity': 6, 'Discount': 0.2, 'Profit': 90.7152}\n",
            "{'_id': ObjectId('6891bd4ab81df53b58179723'), 'Row ID': 11, 'Order ID': 'CA-2014-115812', 'Order Date': '6/9/2014', 'Ship Date': '6/14/2014', 'Ship Mode': 'Standard Class', 'Customer ID': 'BH-11710', 'Customer Name': 'Brosina Hoffman', 'Segment': 'Consumer', 'Country': 'United States', 'City': 'Los Angeles', 'State': 'California', 'Postal Code': 90032, 'Region': 'West', 'Product ID': 'FUR-TA-10001539', 'Category': 'Furniture', 'Sub-Category': 'Tables', 'Product Name': 'Chromcraft Rectangular Conference Tables', 'Sales': 1706.184, 'Quantity': 9, 'Discount': 0.2, 'Profit': 85.3092}\n",
            "{'_id': ObjectId('6891bd4ab81df53b58179724'), 'Row ID': 12, 'Order ID': 'CA-2014-115812', 'Order Date': '6/9/2014', 'Ship Date': '6/14/2014', 'Ship Mode': 'Standard Class', 'Customer ID': 'BH-11710', 'Customer Name': 'Brosina Hoffman', 'Segment': 'Consumer', 'Country': 'United States', 'City': 'Los Angeles', 'State': 'California', 'Postal Code': 90032, 'Region': 'West', 'Product ID': 'TEC-PH-10002033', 'Category': 'Technology', 'Sub-Category': 'Phones', 'Product Name': 'Konftel 250 Conference\\xa0phone\\xa0- Charcoal black', 'Sales': 911.424, 'Quantity': 4, 'Discount': 0.2, 'Profit': 68.3568}\n",
            "{'_id': ObjectId('6891bd4ab81df53b58179729'), 'Row ID': 17, 'Order ID': 'CA-2014-105893', 'Order Date': '11/11/2014', 'Ship Date': '11/18/2014', 'Ship Mode': 'Standard Class', 'Customer ID': 'PK-19075', 'Customer Name': 'Pete Kriz', 'Segment': 'Consumer', 'Country': 'United States', 'City': 'Madison', 'State': 'Wisconsin', 'Postal Code': 53711, 'Region': 'Central', 'Product ID': 'OFF-ST-10004186', 'Category': 'Office Supplies', 'Sub-Category': 'Storage', 'Product Name': 'Stur-D-Stor Shelving, Vertical 5-Shelf: 72\"H x 36\"W x 18 1/2\"D', 'Sales': 665.88, 'Quantity': 6, 'Discount': 0, 'Profit': 13.3176}\n",
            "{'_id': ObjectId('6891bd4ab81df53b58179731'), 'Row ID': 25, 'Order ID': 'CA-2015-106320', 'Order Date': '9/25/2015', 'Ship Date': '9/30/2015', 'Ship Mode': 'Standard Class', 'Customer ID': 'EB-13870', 'Customer Name': 'Emily Burns', 'Segment': 'Consumer', 'Country': 'United States', 'City': 'Orem', 'State': 'Utah', 'Postal Code': 84057, 'Region': 'West', 'Product ID': 'FUR-TA-10000577', 'Category': 'Furniture', 'Sub-Category': 'Tables', 'Product Name': 'Bretford CR4500 Series Slim Rectangular Table', 'Sales': 1044.63, 'Quantity': 3, 'Discount': 0, 'Profit': 240.2649}\n",
            "{'_id': ObjectId('6891bd4ab81df53b58179734'), 'Row ID': 28, 'Order ID': 'US-2015-150630', 'Order Date': '9/17/2015', 'Ship Date': '9/21/2015', 'Ship Mode': 'Standard Class', 'Customer ID': 'TB-21520', 'Customer Name': 'Tracy Blumstein', 'Segment': 'Consumer', 'Country': 'United States', 'City': 'Philadelphia', 'State': 'Pennsylvania', 'Postal Code': 19140, 'Region': 'East', 'Product ID': 'FUR-BO-10004834', 'Category': 'Furniture', 'Sub-Category': 'Bookcases', 'Product Name': 'Riverside Palais Royal Lawyers Bookcase, Royale Cherry Finish', 'Sales': 3083.43, 'Quantity': 7, 'Discount': 0.5, 'Profit': -1665.0522}\n",
            "{'_id': ObjectId('6891bd4ab81df53b5817973c'), 'Row ID': 36, 'Order ID': 'CA-2016-117590', 'Order Date': '12/8/2016', 'Ship Date': '12/10/2016', 'Ship Mode': 'Premium Class', 'Customer ID': 'GH-14485', 'Customer Name': 'Gene Hale', 'Segment': 'Corporate', 'Country': 'United States', 'City': 'Richardson', 'State': 'Texas', 'Postal Code': 75080, 'Region': 'Central', 'Product ID': 'TEC-PH-10004977', 'Category': 'Technology', 'Sub-Category': 'Phones', 'Product Name': 'GE 30524EE4', 'Sales': 1097.544, 'Quantity': 7, 'Discount': 0.2, 'Profit': 123.4737}\n",
            "{'_id': ObjectId('6891bd4ab81df53b5817973f'), 'Row ID': 39, 'Order ID': 'CA-2015-117415', 'Order Date': '12/27/2015', 'Ship Date': '12/31/2015', 'Ship Mode': 'Standard Class', 'Customer ID': 'SN-20710', 'Customer Name': 'Steve Nguyen', 'Segment': 'Home Office', 'Country': 'United States', 'City': 'Houston', 'State': 'Texas', 'Postal Code': 77041, 'Region': 'Central', 'Product ID': 'FUR-BO-10002545', 'Category': 'Furniture', 'Sub-Category': 'Bookcases', 'Product Name': 'Atlantic Metals Mobile 3-Shelf Bookcases, Custom Colors', 'Sales': 532.3992, 'Quantity': 3, 'Discount': 0.32, 'Profit': -46.9764}\n"
          ]
        }
      ],
      "source": [
        "from pymongo import MongoClient\n",
        "client = MongoClient(\"mongodb://localhost:27017/\")\n",
        "db = client[\"STORE\"]\n",
        "collection = db[\"Orders\"]\n",
        "\n",
        "high_sales_orders = collection.find({\"Sales\": {\"$gt\": 500}}).limit(10)\n",
        "\n",
        "\n",
        "for order in high_sales_orders:\n",
        "    print(order)\n"
      ]
    },
    {
      "cell_type": "markdown",
      "id": "1256335d",
      "metadata": {
        "id": "1256335d"
      },
      "source": [
        "##6.Fetch the top 3 orders with the highest Profit"
      ]
    },
    {
      "cell_type": "code",
      "execution_count": null,
      "id": "b5525a27",
      "metadata": {
        "id": "b5525a27",
        "outputId": "c5ef6fa1-5580-4e91-d17b-9d63b065c213"
      },
      "outputs": [
        {
          "name": "stdout",
          "output_type": "stream",
          "text": [
            "{'_id': ObjectId('6891bd4bb81df53b5817b1c3'), 'Row ID': 6827, 'Order ID': 'CA-2016-118689', 'Order Date': '10/2/2016', 'Ship Date': '10/9/2016', 'Ship Mode': 'Standard Class', 'Customer ID': 'TC-20980', 'Customer Name': 'Tamara Chand', 'Segment': 'Corporate', 'Country': 'United States', 'City': 'Lafayette', 'State': 'Indiana', 'Postal Code': 47905, 'Region': 'Central', 'Product ID': 'TEC-CO-10004722', 'Category': 'Technology', 'Sub-Category': 'Copiers', 'Product Name': 'Canon imageCLASS 2200 Advanced Copier', 'Sales': 17499.95, 'Quantity': 5, 'Discount': 0, 'Profit': 8399.976}\n",
            "{'_id': ObjectId('6891bd4cb81df53b5817b6f2'), 'Row ID': 8154, 'Order ID': 'CA-2017-140151', 'Order Date': '3/23/2017', 'Ship Date': '3/25/2017', 'Ship Mode': 'First Class', 'Customer ID': 'RB-19360', 'Customer Name': 'Raymond Buch', 'Segment': 'Consumer', 'Country': 'United States', 'City': 'Seattle', 'State': 'Washington', 'Postal Code': 98115, 'Region': 'West', 'Product ID': 'TEC-CO-10004722', 'Category': 'Technology', 'Sub-Category': 'Copiers', 'Product Name': 'Canon imageCLASS 2200 Advanced Copier', 'Sales': 13999.96, 'Quantity': 4, 'Discount': 0, 'Profit': 6719.9808}\n",
            "{'_id': ObjectId('6891bd4bb81df53b5817a777'), 'Row ID': 4191, 'Order ID': 'CA-2017-166709', 'Order Date': '11/17/2017', 'Ship Date': '11/22/2017', 'Ship Mode': 'Standard Class', 'Customer ID': 'HL-15040', 'Customer Name': 'Hunter Lopez', 'Segment': 'Consumer', 'Country': 'United States', 'City': 'Newark', 'State': 'Delaware', 'Postal Code': 19711, 'Region': 'East', 'Product ID': 'TEC-CO-10004722', 'Category': 'Technology', 'Sub-Category': 'Copiers', 'Product Name': 'Canon imageCLASS 2200 Advanced Copier', 'Sales': 10499.97, 'Quantity': 3, 'Discount': 0, 'Profit': 5039.9856}\n"
          ]
        }
      ],
      "source": [
        "from pymongo import MongoClient\n",
        "client = MongoClient(\"mongodb://localhost:27017/\")\n",
        "db = client[\"STORE\"]\n",
        "collection = db[\"Orders\"]\n",
        "top_profit_orders = collection.find().sort(\"Profit\", -1).limit(3)\n",
        "\n",
        "for order in top_profit_orders:\n",
        "    print(order)\n"
      ]
    },
    {
      "cell_type": "markdown",
      "id": "049c2167",
      "metadata": {
        "id": "049c2167"
      },
      "source": [
        "##7. Update all orders with Ship Mode as \"First Class\" to \"Premium Class."
      ]
    },
    {
      "cell_type": "code",
      "execution_count": null,
      "id": "71fba168",
      "metadata": {
        "id": "71fba168",
        "outputId": "3b5200db-ec33-4a10-928d-cb0e480cf338"
      },
      "outputs": [
        {
          "name": "stdout",
          "output_type": "stream",
          "text": [
            "Total documents updated: 1538\n"
          ]
        }
      ],
      "source": [
        "from pymongo import MongoClient\n",
        "\n",
        "client = MongoClient(\"mongodb://localhost:27017/\")\n",
        "db = client[\"STORE\"]\n",
        "collection = db[\"Orders\"]\n",
        "result = collection.update_many(\n",
        "    {\"Ship Mode\": \"First Class\"},\n",
        "    {\"$set\": {\"Ship Mode\": \"Premium Class\"}}\n",
        ")\n",
        "\n",
        "print(\"Total documents updated:\", result.modified_count)\n"
      ]
    },
    {
      "cell_type": "markdown",
      "id": "65ca3e04",
      "metadata": {
        "id": "65ca3e04"
      },
      "source": [
        "##8. Delete all orders where Sales is less than 50 Use aggregation to group orders by Region a"
      ]
    },
    {
      "cell_type": "code",
      "execution_count": null,
      "id": "8a115b49",
      "metadata": {
        "id": "8a115b49",
        "outputId": "1241c39e-69b0-499a-989c-c115397e74e8"
      },
      "outputs": [
        {
          "name": "stdout",
          "output_type": "stream",
          "text": [
            "Total documents deleted: 4849\n"
          ]
        }
      ],
      "source": [
        "from pymongo import MongoClient\n",
        "client = MongoClient(\"mongodb://localhost:27017/\")\n",
        "db = client[\"STORE\"]\n",
        "collection = db[\"Orders\"]\n",
        "\n",
        "delete_result = collection.delete_many({\"Sales\": {\"$lt\": 50}})\n",
        "print(\"Total documents deleted:\", delete_result.deleted_count)\n"
      ]
    },
    {
      "cell_type": "markdown",
      "id": "6b2733ed",
      "metadata": {
        "id": "6b2733ed"
      },
      "source": [
        "##9. Use aggregation to group orders by Region and calculate total sales per region"
      ]
    },
    {
      "cell_type": "code",
      "execution_count": null,
      "id": "dbee07f3",
      "metadata": {
        "id": "dbee07f3",
        "outputId": "90927785-1edc-4e3b-8726-42b709daf41e"
      },
      "outputs": [
        {
          "name": "stdout",
          "output_type": "stream",
          "text": [
            "{'_id': 'East', 'total_sales': 651137.705}\n",
            "{'_id': 'Central', 'total_sales': 479611.8458}\n",
            "{'_id': 'South', 'total_sales': 376023.312}\n",
            "{'_id': 'West', 'total_sales': 694686.6195}\n"
          ]
        }
      ],
      "source": [
        "from pymongo import MongoClient\n",
        "client = MongoClient(\"mongodb://localhost:27017/\")\n",
        "db = client[\"STORE\"]\n",
        "collection = db[\"Orders\"]\n",
        "\n",
        "pipeline = [\n",
        "    {\n",
        "        \"$group\": {\n",
        "            \"_id\": \"$Region\",\n",
        "            \"total_sales\": {\"$sum\": \"$Sales\"}\n",
        "        }\n",
        "    }\n",
        "]\n",
        "\n",
        "# Run aggregation and print results\n",
        "region_sales = collection.aggregate(pipeline)\n",
        "for region in region_sales:\n",
        "    print(region)\n"
      ]
    },
    {
      "cell_type": "markdown",
      "id": "c601612f",
      "metadata": {
        "id": "c601612f"
      },
      "source": [
        "##10. Fetch all distinct values for Ship Mode from the collection"
      ]
    },
    {
      "cell_type": "code",
      "execution_count": null,
      "id": "b8da10e9",
      "metadata": {
        "id": "b8da10e9",
        "outputId": "860232f8-4dcb-4a28-c825-11810e4c969f"
      },
      "outputs": [
        {
          "name": "stdout",
          "output_type": "stream",
          "text": [
            "Distinct Ship Modes:\n",
            "- Premium Class\n",
            "- Same Day\n",
            "- Second Class\n",
            "- Standard Class\n"
          ]
        }
      ],
      "source": [
        "from pymongo import MongoClient\n",
        "client = MongoClient(\"mongodb://localhost:27017/\")\n",
        "db = client[\"STORE\"]\n",
        "collection = db[\"Orders\"]\n",
        "\n",
        "ship_modes = collection.distinct(\"Ship Mode\")\n",
        "\n",
        "print(\"Distinct Ship Modes:\")\n",
        "for mode in ship_modes:\n",
        "    print(\"-\", mode)\n"
      ]
    },
    {
      "cell_type": "markdown",
      "id": "121a97f6",
      "metadata": {
        "id": "121a97f6"
      },
      "source": [
        "##11.Count the number of orders for each category."
      ]
    },
    {
      "cell_type": "code",
      "execution_count": null,
      "id": "9a696fd4",
      "metadata": {
        "id": "9a696fd4",
        "outputId": "6cffdfa6-29ff-4aaf-9323-dc9dd35b11c7"
      },
      "outputs": [
        {
          "name": "stdout",
          "output_type": "stream",
          "text": [
            "Order counts by category:\n",
            "Furniture: 1573\n",
            "Technology: 1496\n",
            "Office Supplies: 2076\n"
          ]
        }
      ],
      "source": [
        "from pymongo import MongoClient\n",
        "client = MongoClient(\"mongodb://localhost:27017/\")\n",
        "db = client[\"STORE\"]\n",
        "collection = db[\"Orders\"]\n",
        "pipeline = [\n",
        "    {\n",
        "        \"$group\": {\n",
        "            \"_id\": \"$Category\",\n",
        "            \"order_count\": {\"$sum\": 1}\n",
        "        }\n",
        "    }\n",
        "]\n",
        "\n",
        "category_counts = collection.aggregate(pipeline)\n",
        "print(\"Order counts by category:\")\n",
        "for category in category_counts:\n",
        "    print(f\"{category['_id']}: {category['order_count']}\")\n"
      ]
    }
  ],
  "metadata": {
    "kernelspec": {
      "display_name": "base",
      "language": "python",
      "name": "python3"
    },
    "language_info": {
      "codemirror_mode": {
        "name": "ipython",
        "version": 3
      },
      "file_extension": ".py",
      "mimetype": "text/x-python",
      "name": "python",
      "nbconvert_exporter": "python",
      "pygments_lexer": "ipython3",
      "version": "3.12.4"
    },
    "colab": {
      "provenance": []
    }
  },
  "nbformat": 4,
  "nbformat_minor": 5
}