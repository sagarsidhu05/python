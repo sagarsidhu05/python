{
  "nbformat": 4,
  "nbformat_minor": 0,
  "metadata": {
    "colab": {
      "provenance": []
    },
    "kernelspec": {
      "name": "python3",
      "display_name": "Python 3"
    },
    "language_info": {
      "name": "python"
    }
  },
  "cells": [
    {
      "cell_type": "markdown",
      "source": [
        "***THEORY QUESTIONS***\n",
        "\n",
        "📌 What is a random variable in probability theory?\n",
        "ANS=A random variable is a function that assigns numerical values to outcomes of a random experiment. It can take different values depending on chance. It connects probabilities to numbers for analysis.\n",
        "\n",
        "📌 What are the types of random variables?\n",
        "ANS=Random variables are of two types: discrete (finite or countable outcomes) and continuous (uncountable, takes any value in a range). They describe different types of data.\n",
        "\n",
        "📌 What is the difference between discrete and continuous distributions?\n",
        "ANS=Discrete distributions deal with countable outcomes (e.g., dice rolls). Continuous distributions describe data that can take any value within an interval (e.g., height).\n",
        "\n",
        "📌 What are probability distribution functions (PDF)?\n",
        "ANS=For discrete variables, PDF gives the probability of each value. For continuous variables, PDF defines the probability density — area under the curve represents probability.\n",
        "\n",
        "📌 How do cumulative distribution functions (CDF) differ from PDF?\n",
        "ANS=CDF gives the probability a variable is less than or equal to a value. PDF shows likelihood at a specific value (discrete) or density at a point (continuous).\n",
        "\n",
        "📌 What is a discrete uniform distribution?\n",
        "ANS=A discrete uniform distribution assigns equal probability to each of a finite set of outcomes. Example: fair dice rolls (each face has 1/6 chance).\n",
        "\n",
        "📌 What are the key properties of a Bernoulli distribution?\n",
        "ANS=Bernoulli distribution models a single trial with two outcomes: success (1) or failure (0). The mean is p, variance is p(1-p), where p is success probability.\n",
        "\n",
        "📌 What is the binomial distribution, and how is it used?\n",
        "ANS=Binomial distribution gives the probability of a fixed number of successes in n independent Bernoulli trials. It’s used in quality control, surveys, etc.\n",
        "\n",
        "📌 What is the Poisson distribution and where is it applied?\n",
        "ANS=Poisson distribution models the count of events occurring in a fixed interval of time/space when events happen at a constant rate. Applied in queuing, call arrivals.\n",
        "\n",
        "📌 What is a continuous uniform distribution?\n",
        "ANS=A continuous uniform distribution has equal probability density across an interval. Example: picking a point randomly on a line segment.\n",
        "\n",
        "📌 What are the characteristics of a normal distribution?\n",
        "ANS=Normal distribution is symmetric, bell-shaped, defined by mean and variance. Most data lies near the mean; used widely in natural and social sciences.\n",
        "\n",
        "📌 What is the standard normal distribution, and why is it important?\n",
        "ANS=It’s a normal distribution with mean 0, std dev 1. It simplifies calculations and allows comparison across different normal datasets using Z-scores.\n",
        "\n",
        "📌 What is the Central Limit Theorem (CLT), and why is it critical?\n",
        "ANS=CLT states that the sampling distribution of the sample mean approaches normal as sample size grows, regardless of population shape. It underpins many statistical methods.\n",
        "\n",
        "📌 How does the Central Limit Theorem relate to the normal distribution?\n",
        "ANS=CLT explains why normal distribution appears in sample means and sums, even if data itself is not normal. It justifies use of normal-based inference.\n",
        "\n",
        "📌 What is the application of Z statistics in hypothesis testing?\n",
        "ANS=Z statistics assess how far a sample mean is from the population mean (in std dev units). It’s used in large-sample hypothesis tests for means/proportions.\n",
        "\n",
        "📌 How do you calculate a Z-score, and what does it represent?\n",
        "ANS=Z = (X - μ)/σ. It represents how many standard deviations X is from the mean μ. Helps compare values from different distributions.\n",
        "\n",
        "📌 What are point estimates and interval estimates?\n",
        "ANS=Point estimate gives a single value as an estimate of a parameter (e.g. sample mean). Interval estimate gives a range (confidence interval) likely containing the parameter.\n",
        "\n",
        "📌 What is the significance of confidence intervals?\n",
        "ANS=Confidence intervals show the range where a population parameter likely lies with a certain probability (e.g. 95%). They express estimate uncertainty.\n",
        "\n",
        "📌 What is the relationship between Z-score and confidence interval?\n",
        "ANS=Z-scores determine the width of confidence intervals under normal assumptions (e.g. 1.96 Z gives 95% CI). Z connects confidence level to interval bounds.\n",
        "\n",
        "📌 How are Z-scores used to compare different distributions?\n",
        "ANS=Z-scores standardize values, allowing comparison across datasets with different means and variances. They show relative position in respective distributions.\n",
        "\n",
        "📌 What are the assumptions for applying the CLT?\n",
        "ANS=Samples must be independent, identically distributed, and sufficiently large. The population should have a finite variance for the CLT to hold.\n",
        "\n",
        "📌 What is the concept of expected value in probability?\n",
        "ANS=Expected value is the long-run average outcome of a random variable. It’s the weighted mean of all possible values using their probabilities.\n",
        "\n",
        "📌 How does a probability distribution relate to expected outcome?\n",
        "ANS=A probability distribution defines the probabilities used to compute expected value. It determines the average result over many trials."
      ],
      "metadata": {
        "id": "e7AA8fw8d9Iv"
      }
    },
    {
      "cell_type": "code",
      "source": [],
      "metadata": {
        "id": "IcY7Hf9zffLp"
      },
      "execution_count": null,
      "outputs": []
    }
  ]
}