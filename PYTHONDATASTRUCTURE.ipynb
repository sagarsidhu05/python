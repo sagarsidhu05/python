{
  "nbformat": 4,
  "nbformat_minor": 0,
  "metadata": {
    "colab": {
      "provenance": []
    },
    "kernelspec": {
      "name": "python3",
      "display_name": "Python 3"
    },
    "language_info": {
      "name": "python"
    }
  },
  "cells": [
    {
      "cell_type": "markdown",
      "source": [
        "**DATA TYPES AND STRUCTURE QUESTIONS**\n"
      ],
      "metadata": {
        "id": "9nEnB57oxcWl"
      }
    },
    {
      "cell_type": "markdown",
      "source": [
        "# 1.What are data structures, and why are they important?\n",
        "ANS=Data structures are ways to store and organize data for efficient access and modification.\n",
        "They are crucial for writing efficient programs, improving performance in tasks like searching, sorting, and managing large datasets.\n",
        "\n",
        "# 2.Explain the difference between mutable and immutable data types with examples.\n",
        "ANS=Mutable types (e.g., list, dict) can be changed after creation.\n",
        "Immutable types (e.g., int, str, tuple) cannot be modified once created.\n",
        "Example: my_list[0] = 10 is valid; my_tuple[0] = 10 causes an error.\n",
        "\n",
        "# 3.What are the main differences between lists and tuples in Python?\n",
        "ANS=Lists are mutable and can be modified, while tuples are immutable.\n",
        "Lists use more memory and are slower but flexible; tuples are faster and safer for fixed data.\n",
        "\n",
        "# 4.Describe how dictionaries store data.\n",
        "ANS=Dictionaries store data as key-value pairs.\n",
        "Each key must be unique, and values are accessed using the keys, not indexes.\n",
        "\n",
        "# 5.Why might you use a set instead of a list in Python?\n",
        "ANS=Sets automatically remove duplicates and provide faster membership checks.\n",
        "They're useful when uniqueness and fast lookup are more important than order.\n",
        "\n",
        "# 6.What is a string in Python, and how is it different from a list?\n",
        "ANS=A string is an immutable sequence of characters.\n",
        "Unlike lists, strings cannot be changed in-place, and only support read operations.\n",
        "\n",
        "# 7.How do tuples ensure data integrity in Python?\n",
        "ANS=Tuples are immutable, so their content cannot be changed after creation.\n",
        "This makes them reliable for storing fixed or constant data.\n",
        "\n",
        "# 8.What is a hash table, and how does it relate to dictionaries in Python?\n",
        "ANS=A hash table stores data using a hash function to compute key indexes.\n",
        "Python dictionaries are built on hash tables, enabling fast lookups.\n",
        "\n",
        "# 9.Can lists contain different data types in Python?\n",
        "ANS=Yes, lists can hold elements of mixed types (e.g., [1, \"text\", 3.5]).\n",
        "This makes them flexible for storing various kinds of data together.\n",
        "\n",
        "# 10.Explain why strings are immutable in Python.\n",
        "ANS=Strings are immutable for memory efficiency and security.\n",
        "Each modification creates a new string, ensuring old values remain unchanged.\n",
        "\n",
        "# 11.What advantages do dictionaries offer over lists for certain tasks?\n",
        "ANS=Dictionaries allow fast key-based access, which is more efficient than searching a list.\n",
        "They're ideal for lookups, configurations, and mapping data.\n",
        "\n",
        "# 12.Describe a scenario where using a tuple would be preferable over a list.\n",
        "ANS=Tuples are preferable when data must not change, like storing coordinates (x, y) or database keys.\n",
        "They are also faster and can be used as dictionary keys.\n",
        "\n",
        "# 13.How do sets handle duplicate values in Python?\n",
        "ANS=Sets automatically discard duplicate values.\n",
        "If you add duplicates to a set, only one instance is kept.\n",
        "\n",
        "# 14.How does the “in” keyword work differently for lists and dictionaries?\n",
        "ANS=In lists, in checks if a value exists in the elements.\n",
        "In dictionaries, in checks for presence of a key, not a value.\n",
        "\n",
        "# 15.Can you modify the elements of a tuple? Explain why or why not.\n",
        "ANS=No, tuples are immutable, so their elements can't be changed.\n",
        "This behavior ensures consistency and makes them hashable.\n",
        "\n",
        "# 16.What is a nested dictionary, and give an example of its use case.\n",
        "ANS=A nested dictionary is a dictionary within another dictionary.\n",
        "Example: student = {'name': 'Ali', 'marks': {'math': 90, 'science': 85}}.\n",
        "\n",
        "# 17.Describe the time complexity of accessing elements in a dictionary.**bold text**\n",
        "ANS=Accessing elements in a dictionary is on average O(1).\n",
        "This constant-time lookup is due to its underlying hash table implementation.\n",
        "\n",
        "# 18.In what situations are lists preferred over dictionaries?\n",
        "ANS=Lists are better when order matters or when data doesn't need key-based access.\n",
        "They're suitable for sequences, iteration, and ordered data storage.\n",
        "\n",
        "# 19.Why are dictionaries considered unordered, and how does that affect data retrieval?\n",
        "ANS=Traditionally, dictionaries didn't maintain order, though Python 3.7+ preserves insertion order.\n",
        "Retrieval is still based on keys, not order, so indexing like lists isn’t possible.\n",
        "\n",
        "# 2O.Explain the difference between a list and a dictionary in terms of data retrieval.\n",
        "ANS=Lists use integer indexes to access items, while dictionaries use keys.\n",
        "List access is position-based; dictionary access is key-based and usually faster.\n",
        "\n"
      ],
      "metadata": {
        "id": "0CBBl0ExxmeH"
      }
    },
    {
      "cell_type": "markdown",
      "source": [
        "**PRACTICAL QUESTIONS**\n"
      ],
      "metadata": {
        "id": "1-0rknIlz5hD"
      }
    },
    {
      "cell_type": "markdown",
      "source": [
        "# 1.Write a code to create a string with your name and print it"
      ],
      "metadata": {
        "id": "M1vIDArdosAT"
      }
    },
    {
      "cell_type": "code",
      "source": [
        "my_name = \"sagar sidhu\"\n",
        "print(my_name)"
      ],
      "metadata": {
        "colab": {
          "base_uri": "https://localhost:8080/"
        },
        "id": "XfyRXvEAo3P0",
        "outputId": "89ae08e8-a16c-467c-a776-aebf91a60ad7"
      },
      "execution_count": 2,
      "outputs": [
        {
          "output_type": "stream",
          "name": "stdout",
          "text": [
            "sagar sidhu\n"
          ]
        }
      ]
    },
    {
      "cell_type": "markdown",
      "source": [
        "# 2.Write a code to find the length of the string \"Hello World\""
      ],
      "metadata": {
        "id": "BJKSxW7so3t8"
      }
    },
    {
      "cell_type": "code",
      "source": [
        "length = len(\"Hello World\")\n",
        "print(length)"
      ],
      "metadata": {
        "colab": {
          "base_uri": "https://localhost:8080/"
        },
        "id": "rzelBFw5o7wJ",
        "outputId": "207f291a-bec5-4397-ceb1-a3b1c2af4d23"
      },
      "execution_count": 3,
      "outputs": [
        {
          "output_type": "stream",
          "name": "stdout",
          "text": [
            "11\n"
          ]
        }
      ]
    },
    {
      "cell_type": "markdown",
      "source": [
        "# 3.Write a code to slice the first 3 characters from the string \"Python Programming\""
      ],
      "metadata": {
        "id": "r8yCe13vo8jU"
      }
    },
    {
      "cell_type": "code",
      "source": [
        "sliced = \"Python Programming\"[:3]\n",
        "print(sliced)"
      ],
      "metadata": {
        "colab": {
          "base_uri": "https://localhost:8080/"
        },
        "id": "AA1l6nJUpAE5",
        "outputId": "b2b07a52-4ea4-4489-aa25-bfa518714751"
      },
      "execution_count": 4,
      "outputs": [
        {
          "output_type": "stream",
          "name": "stdout",
          "text": [
            "Pyt\n"
          ]
        }
      ]
    },
    {
      "cell_type": "markdown",
      "source": [
        "# 4.Write a code to convert the string \"hello\" to uppercase"
      ],
      "metadata": {
        "id": "cokfkBCPpAln"
      }
    },
    {
      "cell_type": "code",
      "source": [
        "uppercase = \"hello\".upper()\n",
        "print(uppercase)"
      ],
      "metadata": {
        "colab": {
          "base_uri": "https://localhost:8080/"
        },
        "id": "2AA6Jm-3pGYc",
        "outputId": "3cfb6b66-96b7-4801-d8a5-1f97a7c406fd"
      },
      "execution_count": 5,
      "outputs": [
        {
          "output_type": "stream",
          "name": "stdout",
          "text": [
            "HELLO\n"
          ]
        }
      ]
    },
    {
      "cell_type": "markdown",
      "source": [
        "# 5.Write a code to replace the word \"apple\" with \"orange\" in the string \"I like apple\""
      ],
      "metadata": {
        "id": "axtBzC6apG-K"
      }
    },
    {
      "cell_type": "code",
      "source": [
        "replaced = \"I like apple\".replace(\"apple\", \"orange\")\n",
        "print(replaced)"
      ],
      "metadata": {
        "colab": {
          "base_uri": "https://localhost:8080/"
        },
        "id": "FEe_vw9ipKfp",
        "outputId": "7e477738-4b06-4c7a-a75f-0aba9f21d7a2"
      },
      "execution_count": 6,
      "outputs": [
        {
          "output_type": "stream",
          "name": "stdout",
          "text": [
            "I like orange\n"
          ]
        }
      ]
    },
    {
      "cell_type": "markdown",
      "source": [
        "# 6.Write a code to create a list with numbers 1 to 5 and print it"
      ],
      "metadata": {
        "id": "yv8lv5YhpK-M"
      }
    },
    {
      "cell_type": "code",
      "source": [
        "num_list = [1, 2, 3, 4, 5]\n",
        "print(num_list)"
      ],
      "metadata": {
        "colab": {
          "base_uri": "https://localhost:8080/"
        },
        "id": "B70pbaumpOb4",
        "outputId": "49c150b8-752f-4b37-927a-b5d7dcb02c55"
      },
      "execution_count": 7,
      "outputs": [
        {
          "output_type": "stream",
          "name": "stdout",
          "text": [
            "[1, 2, 3, 4, 5]\n"
          ]
        }
      ]
    },
    {
      "cell_type": "markdown",
      "source": [
        "# 7.Write a code to append the number 10 to the list [1, 2, 3, 4]"
      ],
      "metadata": {
        "id": "-1HanPynpPYl"
      }
    },
    {
      "cell_type": "code",
      "source": [
        "my_list = [1, 2, 3, 4]\n",
        "my_list.append(10)\n",
        "print(my_list)\n"
      ],
      "metadata": {
        "colab": {
          "base_uri": "https://localhost:8080/"
        },
        "id": "z_dqQfxapTq8",
        "outputId": "03643fc4-f53c-4272-b810-b3af3763be4b"
      },
      "execution_count": 8,
      "outputs": [
        {
          "output_type": "stream",
          "name": "stdout",
          "text": [
            "[1, 2, 3, 4, 10]\n"
          ]
        }
      ]
    },
    {
      "cell_type": "markdown",
      "source": [
        "# 8.Write a code to remove the number 3 from the list [1, 2, 3, 4, 5]"
      ],
      "metadata": {
        "id": "mx_5cpAipUUV"
      }
    },
    {
      "cell_type": "code",
      "source": [
        "list_to_modify = [1, 2, 3, 4, 5]\n",
        "list_to_modify.remove(3)\n",
        "print(list_to_modify)"
      ],
      "metadata": {
        "colab": {
          "base_uri": "https://localhost:8080/"
        },
        "id": "ey44AseJpZ8j",
        "outputId": "1760c22e-0f70-49ff-84bd-a6df8c239c54"
      },
      "execution_count": 9,
      "outputs": [
        {
          "output_type": "stream",
          "name": "stdout",
          "text": [
            "[1, 2, 4, 5]\n"
          ]
        }
      ]
    },
    {
      "cell_type": "markdown",
      "source": [
        "# 9.Write a code to access the second element in the list ['a', 'b', 'c', 'd']"
      ],
      "metadata": {
        "id": "K5ZXv2jVpaaP"
      }
    },
    {
      "cell_type": "code",
      "source": [
        "second_element = ['a', 'b', 'c', 'd'][1]\n",
        "print(second_element)"
      ],
      "metadata": {
        "colab": {
          "base_uri": "https://localhost:8080/"
        },
        "id": "G9ULpAiypeKx",
        "outputId": "323ce143-9674-49e0-f32b-1710fae59078"
      },
      "execution_count": 10,
      "outputs": [
        {
          "output_type": "stream",
          "name": "stdout",
          "text": [
            "b\n"
          ]
        }
      ]
    },
    {
      "cell_type": "markdown",
      "source": [
        "# 10.Write a code to reverse the list [10, 20, 30, 40, 50]"
      ],
      "metadata": {
        "id": "G0qgHtpOpejR"
      }
    },
    {
      "cell_type": "code",
      "source": [
        "original_list = [10, 20, 30, 40, 50]\n",
        "reversed_list = original_list[::-1]\n",
        "print(reversed_list)"
      ],
      "metadata": {
        "colab": {
          "base_uri": "https://localhost:8080/"
        },
        "id": "CvYc0fVKqhp_",
        "outputId": "1c405650-2ccc-490d-9dcd-e8e645858939"
      },
      "execution_count": 11,
      "outputs": [
        {
          "output_type": "stream",
          "name": "stdout",
          "text": [
            "[50, 40, 30, 20, 10]\n"
          ]
        }
      ]
    },
    {
      "cell_type": "markdown",
      "source": [
        "# 11.Write a code to create a tuple with the elements 100, 200, 300 and print it"
      ],
      "metadata": {
        "id": "ZHCY6v5OqsFL"
      }
    },
    {
      "cell_type": "code",
      "source": [
        "my_tuple = (100, 200, 300)\n",
        "print(my_tuple)"
      ],
      "metadata": {
        "colab": {
          "base_uri": "https://localhost:8080/"
        },
        "id": "2HrSoemuqwnd",
        "outputId": "c672c20a-4778-48be-c43b-d0eada54bb27"
      },
      "execution_count": 12,
      "outputs": [
        {
          "output_type": "stream",
          "name": "stdout",
          "text": [
            "(100, 200, 300)\n"
          ]
        }
      ]
    },
    {
      "cell_type": "markdown",
      "source": [
        "# 12.Write a code to access the second-to-last element of the tuple ('red', 'green', 'blue', 'yellow')."
      ],
      "metadata": {
        "id": "ZSy1WYXmqxBs"
      }
    },
    {
      "cell_type": "code",
      "source": [
        "colors = ('red', 'green', 'blue', 'yellow')\n",
        "second_last = colors[-2]\n",
        "print(second_last)"
      ],
      "metadata": {
        "colab": {
          "base_uri": "https://localhost:8080/"
        },
        "id": "dIkUtg4Zq1ob",
        "outputId": "86ed5afa-3e7c-4412-cd67-ee4aff717c9d"
      },
      "execution_count": 13,
      "outputs": [
        {
          "output_type": "stream",
          "name": "stdout",
          "text": [
            "blue\n"
          ]
        }
      ]
    },
    {
      "cell_type": "markdown",
      "source": [
        "# 13.Write a code to find the minimum number in the tuple (10, 20, 5, 15)."
      ],
      "metadata": {
        "id": "xQZK0gGGq2G4"
      }
    },
    {
      "cell_type": "code",
      "source": [
        "numbers = (10, 20, 5, 15)\n",
        "minimum = min(numbers)\n",
        "print(minimum)"
      ],
      "metadata": {
        "colab": {
          "base_uri": "https://localhost:8080/"
        },
        "id": "ozr2VhkPq7rn",
        "outputId": "56cc6cf7-bfa9-40d3-b701-35fc9ccfa6a9"
      },
      "execution_count": 14,
      "outputs": [
        {
          "output_type": "stream",
          "name": "stdout",
          "text": [
            "5\n"
          ]
        }
      ]
    },
    {
      "cell_type": "markdown",
      "source": [
        "# 14.Write a code to find the index of the element \"cat\" in the tuple ('dog', 'cat', 'rabbit')."
      ],
      "metadata": {
        "id": "31bvzF4iq7O_"
      }
    },
    {
      "cell_type": "code",
      "source": [
        "animals = ('dog', 'cat', 'rabbit')\n",
        "cat_index = animals.index(\"cat\")\n",
        "print(cat_index)"
      ],
      "metadata": {
        "colab": {
          "base_uri": "https://localhost:8080/"
        },
        "id": "z9cubQMrrC99",
        "outputId": "cfecb12c-e320-41f6-a825-a93b1304db99"
      },
      "execution_count": 15,
      "outputs": [
        {
          "output_type": "stream",
          "name": "stdout",
          "text": [
            "1\n"
          ]
        }
      ]
    },
    {
      "cell_type": "markdown",
      "source": [
        "# 15.Write a code to create a tuple containing three different fruits and check if \"kiwi\" is in it."
      ],
      "metadata": {
        "id": "px-dOX3FrDjI"
      }
    },
    {
      "cell_type": "code",
      "source": [
        "fruits = ('apple', 'banana', 'cherry')\n",
        "has_kiwi = \"kiwi\" in fruits\n",
        "print(has_kiwi)"
      ],
      "metadata": {
        "colab": {
          "base_uri": "https://localhost:8080/"
        },
        "id": "rMULK1HqrJW0",
        "outputId": "04b255de-ca32-405f-d979-0da507e265f8"
      },
      "execution_count": 16,
      "outputs": [
        {
          "output_type": "stream",
          "name": "stdout",
          "text": [
            "False\n"
          ]
        }
      ]
    },
    {
      "cell_type": "markdown",
      "source": [
        "# 16.Write a code to create a set with the elements 'a', 'b', 'c' and print it."
      ],
      "metadata": {
        "id": "nA8l_kERshky"
      }
    },
    {
      "cell_type": "code",
      "source": [
        "my_set = {'a', 'b', 'c'}\n",
        "print(my_set)"
      ],
      "metadata": {
        "colab": {
          "base_uri": "https://localhost:8080/"
        },
        "id": "ExygKwhnsmI0",
        "outputId": "6a577e92-bda4-4a1a-ec24-f22fc79a555c"
      },
      "execution_count": 17,
      "outputs": [
        {
          "output_type": "stream",
          "name": "stdout",
          "text": [
            "{'b', 'c', 'a'}\n"
          ]
        }
      ]
    },
    {
      "cell_type": "markdown",
      "source": [
        "# 17.Write a code to clear all elements from the set {1, 2, 3, 4, 5}."
      ],
      "metadata": {
        "id": "Xdz2k2B6smiZ"
      }
    },
    {
      "cell_type": "code",
      "source": [
        "s = {1, 2, 3, 4, 5}\n",
        "s.clear()\n",
        "print(s)"
      ],
      "metadata": {
        "colab": {
          "base_uri": "https://localhost:8080/"
        },
        "id": "ekXvFKImstwR",
        "outputId": "edd0f1f3-1e02-442a-b3bc-49e2c24546e5"
      },
      "execution_count": 18,
      "outputs": [
        {
          "output_type": "stream",
          "name": "stdout",
          "text": [
            "set()\n"
          ]
        }
      ]
    },
    {
      "cell_type": "markdown",
      "source": [
        "# 18.Write a code to remove the element 4 from the set {1, 2, 3, 4}.\n",
        "\n"
      ],
      "metadata": {
        "id": "ww4GP4JcsuNi"
      }
    },
    {
      "cell_type": "code",
      "source": [
        "s = {1, 2, 3, 4}\n",
        "s.remove(4)\n",
        "print(s)"
      ],
      "metadata": {
        "colab": {
          "base_uri": "https://localhost:8080/"
        },
        "id": "e0sJGxFtsyr0",
        "outputId": "ce1ac9bb-e4ce-4ff6-96b0-366780e06515"
      },
      "execution_count": 19,
      "outputs": [
        {
          "output_type": "stream",
          "name": "stdout",
          "text": [
            "{1, 2, 3}\n"
          ]
        }
      ]
    },
    {
      "cell_type": "markdown",
      "source": [
        "# 19.Write a code to find the union of two sets {1, 2, 3} and {3, 4, 5}."
      ],
      "metadata": {
        "id": "3vJWKlpHszRH"
      }
    },
    {
      "cell_type": "code",
      "source": [
        "set1 = {1, 2, 3}\n",
        "set2 = {3, 4, 5}\n",
        "union_set = set1.union(set2)\n",
        "print(union_set)"
      ],
      "metadata": {
        "colab": {
          "base_uri": "https://localhost:8080/"
        },
        "id": "qwFqRfsos7S0",
        "outputId": "14782608-5a59-4458-b9df-2fe08593cdd0"
      },
      "execution_count": 20,
      "outputs": [
        {
          "output_type": "stream",
          "name": "stdout",
          "text": [
            "{1, 2, 3, 4, 5}\n"
          ]
        }
      ]
    },
    {
      "cell_type": "markdown",
      "source": [
        "# 20.Write a code to find the intersection of two sets {1, 2, 3} and {2, 3, 4}"
      ],
      "metadata": {
        "id": "5gGT7F9Os7tk"
      }
    },
    {
      "cell_type": "code",
      "source": [
        "set1 = {1, 2, 3}\n",
        "set2 = {2, 3, 4}\n",
        "intersection = set1.intersection(set2)\n",
        "print(intersection)"
      ],
      "metadata": {
        "colab": {
          "base_uri": "https://localhost:8080/"
        },
        "id": "IluwKFHXtAhw",
        "outputId": "67df58ba-92b6-498c-8eaa-209329b27f46"
      },
      "execution_count": 21,
      "outputs": [
        {
          "output_type": "stream",
          "name": "stdout",
          "text": [
            "{2, 3}\n"
          ]
        }
      ]
    },
    {
      "cell_type": "markdown",
      "source": [
        "# 21. Write a code to create a dictionary with the keys \"name\", \"age\", and \"city\", and print it."
      ],
      "metadata": {
        "id": "C5d9VOS-tBAU"
      }
    },
    {
      "cell_type": "code",
      "source": [
        "person = {\"name\": \"John\", \"age\": 30, \"city\": \"New York\"}\n",
        "print(person)\n"
      ],
      "metadata": {
        "colab": {
          "base_uri": "https://localhost:8080/"
        },
        "id": "mcFaD9mutK-J",
        "outputId": "24b1ea10-891f-45af-daa2-c09ea83d11f2"
      },
      "execution_count": 22,
      "outputs": [
        {
          "output_type": "stream",
          "name": "stdout",
          "text": [
            "{'name': 'John', 'age': 30, 'city': 'New York'}\n"
          ]
        }
      ]
    },
    {
      "cell_type": "markdown",
      "source": [
        "# 22.Write a code to add a new key-value pair \"country\": \"USA\" to the dictionary {'name': 'John', 'age': 25}"
      ],
      "metadata": {
        "id": "1pEVWsZatLbu"
      }
    },
    {
      "cell_type": "code",
      "source": [
        "person = {'name': 'John', 'age': 25}\n",
        "person['country'] = \"USA\"\n",
        "print(person)"
      ],
      "metadata": {
        "colab": {
          "base_uri": "https://localhost:8080/"
        },
        "id": "XkYXoxCatR7v",
        "outputId": "39095050-965d-4104-d614-10fda85f21aa"
      },
      "execution_count": 23,
      "outputs": [
        {
          "output_type": "stream",
          "name": "stdout",
          "text": [
            "{'name': 'John', 'age': 25, 'country': 'USA'}\n"
          ]
        }
      ]
    },
    {
      "cell_type": "markdown",
      "source": [
        "# 23.Write a code to access the value associated with the key \"name\" in the dictionary {'name': 'Alice', 'age': 30}."
      ],
      "metadata": {
        "id": "7HgHNSgltSSh"
      }
    },
    {
      "cell_type": "code",
      "source": [
        "person = {'name': 'Alice', 'age': 30}\n",
        "print(person[\"name\"])"
      ],
      "metadata": {
        "colab": {
          "base_uri": "https://localhost:8080/"
        },
        "id": "EWtoKoxbtZgg",
        "outputId": "3807ac39-bf1e-45f1-d644-5770d9134b91"
      },
      "execution_count": 24,
      "outputs": [
        {
          "output_type": "stream",
          "name": "stdout",
          "text": [
            "Alice\n"
          ]
        }
      ]
    },
    {
      "cell_type": "markdown",
      "source": [
        "# 24.Write a code to remove the key \"age\" from the dictionary {'name': 'Bob', 'age': 22, 'city': 'New York'}.\n",
        "\n"
      ],
      "metadata": {
        "id": "mzxg_kWjtaF5"
      }
    },
    {
      "cell_type": "code",
      "source": [
        "person = {'name': 'Bob', 'age': 22, 'city': 'New York'}\n",
        "del person[\"age\"]\n",
        "print(person)"
      ],
      "metadata": {
        "colab": {
          "base_uri": "https://localhost:8080/"
        },
        "id": "oUobKHPutjhP",
        "outputId": "1abd3205-e809-4f3c-cd06-95ebac18e02e"
      },
      "execution_count": 25,
      "outputs": [
        {
          "output_type": "stream",
          "name": "stdout",
          "text": [
            "{'name': 'Bob', 'city': 'New York'}\n"
          ]
        }
      ]
    },
    {
      "cell_type": "markdown",
      "source": [
        "# 25.Write a code to check if the key \"city\" exists in the dictionary {'name': 'Alice', 'city': 'Paris'}."
      ],
      "metadata": {
        "id": "5PxvLsEXtj5h"
      }
    },
    {
      "cell_type": "code",
      "source": [
        "person = {'name': 'Alice', 'city': 'Paris'}\n",
        "print(\"city\" in person)"
      ],
      "metadata": {
        "colab": {
          "base_uri": "https://localhost:8080/"
        },
        "id": "qD-gG3tatqI3",
        "outputId": "9bf5f456-f886-443b-8219-6fdc5e157686"
      },
      "execution_count": 26,
      "outputs": [
        {
          "output_type": "stream",
          "name": "stdout",
          "text": [
            "True\n"
          ]
        }
      ]
    },
    {
      "cell_type": "markdown",
      "source": [
        "# 26.Write a code to create a list, a tuple, and a dictionary, and print them all"
      ],
      "metadata": {
        "id": "u1Jc-L9FtqrO"
      }
    },
    {
      "cell_type": "code",
      "source": [
        "my_list = [1, 2, 3]\n",
        "my_tuple = ('a', 'b', 'c')\n",
        "my_dict = {\"x\": 10, \"y\": 20}\n",
        "print(my_list)\n",
        "print(my_tuple)\n",
        "print(my_dict)"
      ],
      "metadata": {
        "colab": {
          "base_uri": "https://localhost:8080/"
        },
        "id": "QFI43A_ttx6F",
        "outputId": "6a94e08f-bed2-4ab7-a98c-ba817ec56416"
      },
      "execution_count": 27,
      "outputs": [
        {
          "output_type": "stream",
          "name": "stdout",
          "text": [
            "[1, 2, 3]\n",
            "('a', 'b', 'c')\n",
            "{'x': 10, 'y': 20}\n"
          ]
        }
      ]
    },
    {
      "cell_type": "markdown",
      "source": [
        "# 27.Write a code to create a list of 5 random numbers between 1 and 100, sort it in ascending order, and print the result.(replaced)\n"
      ],
      "metadata": {
        "id": "rPST1dtntyhT"
      }
    },
    {
      "cell_type": "code",
      "source": [
        "import random\n",
        "random_list = random.sample(range(1, 101), 5)\n",
        "random_list.sort()\n",
        "print(random_list)\n"
      ],
      "metadata": {
        "colab": {
          "base_uri": "https://localhost:8080/"
        },
        "id": "TeMonX6nt9PD",
        "outputId": "1b13b004-360c-4217-e25d-b5a922ee212c"
      },
      "execution_count": 28,
      "outputs": [
        {
          "output_type": "stream",
          "name": "stdout",
          "text": [
            "[6, 7, 21, 48, 76]\n"
          ]
        }
      ]
    },
    {
      "cell_type": "markdown",
      "source": [
        "# 28.Write a code to create a list with strings and print the element at the third index"
      ],
      "metadata": {
        "id": "Dni4Kzd2t9_L"
      }
    },
    {
      "cell_type": "code",
      "source": [
        "string_list = [\"apple\", \"banana\", \"cherry\", \"date\", \"fig\"]\n",
        "print(string_list[3])"
      ],
      "metadata": {
        "colab": {
          "base_uri": "https://localhost:8080/"
        },
        "id": "sK11rY4PuDGh",
        "outputId": "015a8d90-87c2-4e5d-dd6f-88606c346921"
      },
      "execution_count": 29,
      "outputs": [
        {
          "output_type": "stream",
          "name": "stdout",
          "text": [
            "date\n"
          ]
        }
      ]
    },
    {
      "cell_type": "markdown",
      "source": [
        "# 29.Write a code to combine two dictionaries into one and print the result."
      ],
      "metadata": {
        "id": "jtll912duDrD"
      }
    },
    {
      "cell_type": "code",
      "source": [
        "dict1 = {\"a\": 1, \"b\": 2}\n",
        "dict2 = {\"c\": 3, \"d\": 4}\n",
        "combined = {**dict1, **dict2}\n",
        "print(combined)"
      ],
      "metadata": {
        "colab": {
          "base_uri": "https://localhost:8080/"
        },
        "id": "jhFTugncuJMw",
        "outputId": "5b6bbd77-770d-457e-b846-7ad78850b283"
      },
      "execution_count": 30,
      "outputs": [
        {
          "output_type": "stream",
          "name": "stdout",
          "text": [
            "{'a': 1, 'b': 2, 'c': 3, 'd': 4}\n"
          ]
        }
      ]
    },
    {
      "cell_type": "markdown",
      "source": [
        "# 30.Write a code to convert a list of strings into a set."
      ],
      "metadata": {
        "id": "fMvZnWLKuJtl"
      }
    },
    {
      "cell_type": "code",
      "source": [
        "string_list = [\"apple\", \"banana\", \"cherry\", \"apple\"]\n",
        "string_set = set(string_list)\n",
        "print(string_set)"
      ],
      "metadata": {
        "colab": {
          "base_uri": "https://localhost:8080/"
        },
        "id": "MdDcjPzbuObY",
        "outputId": "86029c5e-4714-47c0-8944-586ebf2326b2"
      },
      "execution_count": 31,
      "outputs": [
        {
          "output_type": "stream",
          "name": "stdout",
          "text": [
            "{'banana', 'cherry', 'apple'}\n"
          ]
        }
      ]
    }
  ]
}