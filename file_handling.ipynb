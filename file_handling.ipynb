{
  "nbformat": 4,
  "nbformat_minor": 0,
  "metadata": {
    "colab": {
      "provenance": []
    },
    "kernelspec": {
      "name": "python3",
      "display_name": "Python 3"
    },
    "language_info": {
      "name": "python"
    }
  },
  "cells": [
    {
      "cell_type": "markdown",
      "source": [
        "**theory question**\n"
      ],
      "metadata": {
        "id": "Ce1F96Cdr47x"
      }
    },
    {
      "cell_type": "markdown",
      "source": [
        "1. Difference between interpreted and compiled languages\n",
        "ans=Compiled languages translate the entire program into machine code before execution, resulting in faster execution but requiring compilation steps. Interpreted languages execute code line-by-line at runtime, which allows easier debugging but generally slower performance.\n",
        "\n",
        "2. What is exception handling in Python?\n",
        "ans=Exception handling is a mechanism to catch and manage runtime errors, allowing a program to continue or fail gracefully instead of crashing.\n",
        "\n",
        "3. Purpose of the finally block in exception handling\n",
        "ans=The finally block contains code that always executes after the try and except blocks, used for cleanup actions like closing files or releasing resources.\n",
        "\n",
        "4. What is logging in Python?\n",
        "ans=Logging is the process of recording messages about program execution, errors, or events to a file or console for monitoring and debugging.\n",
        "\n",
        "5. Significance of the del method in Python\n",
        "ans=The __del__ method is called when an object is about to be destroyed, allowing cleanup before the object is removed from memory.\n",
        "\n",
        "6. Difference between import and from ... import in Python\n",
        "ans=import loads an entire module, requiring qualification of names. from ... import imports specific parts directly into the current namespace.\n",
        "\n",
        "7. How can you handle multiple exceptions in Python?\n",
        "ans=Multiple exceptions can be handled by specifying them as a tuple in a single except block.\n",
        "\n",
        "8. Purpose of the with statement when handling files in Python\n",
        "ans=The with statement ensures that resources like files are automatically and safely closed after use.\n",
        "\n",
        "9. Difference between multithreading and multiprocessing\n",
        "ans=Multithreading runs multiple threads within one process sharing memory, suitable for I/O tasks. Multiprocessing runs separate processes with independent memory, better for CPU-intensive tasks.\n",
        "\n",
        "10. Advantages of using logging in a program\n",
        "ans=Logging helps track program execution, diagnose errors, and maintain records without interrupting the program flow.\n",
        "\n",
        "11. What is memory management in Python?\n",
        "ans=Memory management involves allocating, tracking, and releasing memory automatically for Python objects during program execution.\n",
        "\n",
        "12. Basic steps involved in exception handling in Python\n",
        "ans=Use try block to monitor code, except to catch exceptions, optionally else to run if no exceptions, and finally for cleanup.\n",
        "\n",
        "13. Why is memory management important in Python?\n",
        "ans=To avoid memory leaks, optimize resource use, and ensure efficient program execution.\n",
        "\n",
        "14. Role of try and except in exception handling\n",
        "ans=Try contains code that may cause errors, except handles those errors to prevent program termination.\n",
        "\n",
        "15. How does Python’s garbage collection system work?\n",
        "ans=Python uses reference counting and cyclic garbage collection to free memory used by objects no longer in use.\n",
        "\n",
        "16. Purpose of the else block in exception handling\n",
        "ans=Else runs code when no exception occurs in the try block, separating error-free logic from error handling.\n",
        "\n",
        "17. Common logging levels in Python\n",
        "ans=DEBUG, INFO, WARNING, ERROR, CRITICAL — used to indicate the severity of log messages.\n",
        "\n",
        "18. Difference between os.fork() and multiprocessing in Python\n",
        "ans=os.fork() duplicates the current process (Unix only), multiprocessing spawns new independent processes with inter-process communication support.\n",
        "\n",
        "19. Importance of closing a file in Python\n",
        "ans=To release system resources and ensure all buffered data is saved properly.\n",
        "\n",
        "20. Difference between file.read() and file.readline()\n",
        "ans=read() reads the entire file or specified bytes; readline() reads one line at a time.\n",
        "\n",
        "21. What is the logging module in Python used for?\n",
        "ans=It provides tools to create, configure, and manage log messages in applications.\n",
        "\n",
        "22. What is the os module in Python used for in file handling?\n",
        "ans=It provides functions to interact with the operating system for file and directory operations.\n",
        "\n",
        "23. Challenges associated with memory management in Python\n",
        "ans=Handling circular references, preventing memory leaks, and managing large or long-lived objects.\n",
        "\n",
        "24. How do you raise an exception manually in Python?\n",
        "ans=By using the raise statement followed by an exception type.\n",
        "\n",
        "25. Why is it important to use multithreading in certain applications?\n",
        "ans=To improve responsiveness and performance in I/O-bound or concurrent tasks without heavy resource overhead.\n",
        "\n"
      ],
      "metadata": {
        "id": "-DEsSOtur_CL"
      }
    },
    {
      "cell_type": "markdown",
      "source": [
        "**practical questions**"
      ],
      "metadata": {
        "id": "CO-5G0Y7s26P"
      }
    },
    {
      "cell_type": "code",
      "execution_count": null,
      "metadata": {
        "id": "JCmSNAkvr0IU"
      },
      "outputs": [],
      "source": []
    }
  ]
}