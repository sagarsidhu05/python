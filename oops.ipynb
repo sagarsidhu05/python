{
  "nbformat": 4,
  "nbformat_minor": 0,
  "metadata": {
    "colab": {
      "provenance": []
    },
    "kernelspec": {
      "name": "python3",
      "display_name": "Python 3"
    },
    "language_info": {
      "name": "python"
    }
  },
  "cells": [
    {
      "cell_type": "markdown",
      "source": [
        "**THEORY QUESTIONS**\n",
        "\n",
        "1.What is Object-Oriented Programming (OOP)?\n",
        "ANS=OOP is a programming paradigm based on the concept of objects, which contain data (attributes) and methods (functions). It promotes modularity, reusability, and abstraction.\n",
        "\n",
        "2. What is a class in OOP?\n",
        "ANS=A class is a blueprint for creating objects. It defines the structure and behaviors (methods) that its objects will have.\n",
        "\n",
        "3. What is an object in OOP?\n",
        "ANS=An object is an instance of a class. It contains real values and functionalities defined by its class.\n",
        "\n",
        "4. What is the difference between abstraction and encapsulation?\n",
        "ANS=Abstraction hides complex implementation details and shows only the necessary features.\n",
        "\n",
        "Encapsulation binds data and methods together and restricts direct access to internal states (often using private/protected attributes).\n",
        "\n",
        "5. What are dunder methods in Python?\n",
        "ANS=Dunder methods (double underscore), like __init__, __str__, and __len__, are special methods that Python calls automatically in certain situations. They define how objects behave with built-in functions and operators.\n",
        "\n",
        "6. Explain the concept of inheritance in OOP.\n",
        "ANS=Inheritance allows a class (child/derived) to inherit properties and behaviors from another class (parent/base), enabling code reuse and hierarchy.\n",
        "\n",
        "7. What is polymorphism in OOP?\n",
        "ANS=Polymorphism allows objects of different classes to be treated as objects of a common superclass. It supports method overriding and dynamic behavior.\n",
        "\n",
        "8. How is encapsulation achieved in Python?\n",
        "\n",
        "ANS=Using private (__var) and protected (_var) variables.\n",
        "\n",
        "Providing access via getter and setter methods or the @property decorator.\n",
        "\n",
        "9. What is a constructor in Python?\n",
        "ANS=A constructor is a special method __init__ that is automatically called when an object is created. It initializes the object's attributes.\n",
        "\n",
        "10. What are class and static methods in Python?\n",
        "ANS=@classmethod: Takes cls as the first parameter. Can modify class state.\n",
        "\n",
        "@staticmethod: Doesn’t take self or cls. Independent of object and class state.\n",
        "\n",
        "11. What is method overloading in Python?\n",
        "ANS=Python doesn't support traditional method overloading (same name, different signatures). It can be mimicked using default arguments or *args, **kwargs.\n",
        "\n",
        "12. What is method overriding in OOP?\n",
        "ANS=Method overriding allows a subclass to provide a specific implementation of a method already defined in its parent class.\n",
        "\n",
        "13. What is a property decorator in Python?\n",
        "ANS=The @property decorator allows a method to be accessed like an attribute, often used to implement controlled access to private attributes.\n",
        "\n",
        "14. Why is polymorphism important in OOP?\n",
        "ANS=It enables flexible and interchangeable use of objects, improves code maintainability, and supports interface-based programming.\n",
        "\n",
        "15. What is an abstract class in Python?\n",
        "ANS=An abstract class (via abc module) contains one or more abstract methods (methods without implementation) that must be implemented in subclasses.\n",
        "\n",
        "16. What are the advantages of OOP?\n",
        "ANS =Modularity\n",
        "\n",
        "Code Reusability\n",
        "\n",
        "Scalability\n",
        "\n",
        "Easier maintenance\n",
        "\n",
        "Real-world modeling\n",
        "\n",
        "17. What is the difference between a class variable and an instance variable?\n",
        "ANS=Class variable: Shared across all instances of the class.\n",
        "\n",
        "Instance variable: Unique to each instance (object) of the class.\n",
        "\n",
        "18. What is multiple inheritance in Python?\n",
        "ANS=Multiple inheritance is when a class inherits from more than one base class. Python supports it but it can lead to ambiguity, resolved using the MRO (Method Resolution Order).\n",
        "\n",
        "19. Explain the purpose of __str__ and __repr__ methods in Python.\n",
        "ANS=__str__: Used by str() and print() for user-friendly output.\n",
        "\n",
        "__repr__: Used by repr() and the interpreter for unambiguous representation, often for debugging.\n",
        "\n",
        "20. What is the significance of the super() function in Python?\n",
        "ANS=super() is used to call methods from a parent or sibling class. It helps in cooperative multiple inheritance and method overriding.\n",
        "\n",
        "21. What is the significance of the __del__ method in Python?\n",
        "ANS=The __del__ method is a destructor, called when an object is about to be destroyed. Used to release external resources like files or network connections.\n",
        "\n",
        "22. What is the difference between @staticmethod and @classmethod in Python?\n",
        "ANS=@staticmethod: Doesn't access instance (self) or class (cls). Acts like a regular function within the class scope.\n",
        "\n",
        "@classmethod: Takes cls and can access or modify class state.\n",
        "\n",
        "23. How does polymorphism work in Python with inheritance?\n",
        "ANS=Polymorphism in Python with inheritance allows objects of different subclasses to be treated as objects of a common superclass. This means that a method defined in a superclass can be overridden in any subclass to provide specialized behavior. When a method is called on an object, Python will automatically invoke the version of the method appropriate to the object's actual class, not the reference type. This enables flexibility and reuse of code while handling different types of objects through a common interface.\n",
        "\n",
        "24. What is method chaining in Python OOP?\n",
        "ANS=Method chaining is a technique in object-oriented programming where multiple methods are called sequentially in a single line. This is achieved by having each method return the object (self) after execution, allowing the next method to be called on the same instance. It improves code readability and conciseness by reducing the need for repetitive object references.\n",
        "\n",
        "25. What is the purpose of the __call__ method in Python?\n",
        "ANS=The __call__ method in Python allows an object to be invoked as if it were a regular function. When defined in a class, it enables instances of that class to be called using parentheses, like obj(). This is useful for creating callable objects, which can encapsulate both data and behavior, and is often used in cases such as function objects, decorators, or dynamic method execution.\n",
        "\n",
        "\n",
        "\n"
      ],
      "metadata": {
        "id": "Pgl0WqqOkOeF"
      }
    },
    {
      "cell_type": "markdown",
      "source": [
        "**PRACTICAL QUESTIONS**"
      ],
      "metadata": {
        "id": "430f4x72l4YK"
      }
    },
    {
      "cell_type": "markdown",
      "source": [
        "1.. Create a parent class Animal with a method speak() that prints a generic message. Create a child class Dog\n",
        "that overrides the speak() method to print \"Bark!\"."
      ],
      "metadata": {
        "id": "MoAwVKVsmB1W"
      }
    },
    {
      "cell_type": "code",
      "source": [
        "class Animal:\n",
        "    def speak(self):\n",
        "        print(\"This animal makes a sound.\")\n",
        "\n",
        "class Dog(Animal):\n",
        "    def speak(self):\n",
        "        print(\"Bark!\")\n",
        "\n"
      ],
      "metadata": {
        "id": "beJtWRCxmGBM"
      },
      "execution_count": 2,
      "outputs": []
    },
    {
      "cell_type": "markdown",
      "source": [
        "2. Write a program to create an abstract class Shape with a method area(). Derive classes Circle and Rectangle\n",
        "from it and implement the area() method in both."
      ],
      "metadata": {
        "id": "dmrBfHTGmGdX"
      }
    },
    {
      "cell_type": "code",
      "execution_count": 3,
      "metadata": {
        "colab": {
          "base_uri": "https://localhost:8080/"
        },
        "id": "8EJ1vPgVkDml",
        "outputId": "a02c7e84-566a-4992-ad9f-2041bca9ae4a"
      },
      "outputs": [
        {
          "output_type": "stream",
          "name": "stdout",
          "text": [
            "78.5\n",
            "24\n"
          ]
        }
      ],
      "source": [
        "from abc import ABC, abstractmethod\n",
        "\n",
        "class Shape(ABC):\n",
        "    @abstractmethod\n",
        "    def area(self):\n",
        "        pass\n",
        "\n",
        "class Circle(Shape):\n",
        "    def __init__(self, radius):\n",
        "        self.radius = radius\n",
        "\n",
        "    def area(self):\n",
        "        return 3.14 * self.radius ** 2\n",
        "\n",
        "class Rectangle(Shape):\n",
        "    def __init__(self, width, height):\n",
        "        self.width = width\n",
        "        self.height = height\n",
        "\n",
        "    def area(self):\n",
        "        return self.width * self.height\n",
        "\n",
        "\n",
        "c = Circle(5)\n",
        "r = Rectangle(4, 6)\n",
        "print(c.area())\n",
        "print(r.area())\n"
      ]
    },
    {
      "cell_type": "markdown",
      "source": [
        "3. Implement a multi-level inheritance scenario where a class Vehicle has an attribute type. Derive a class Car\n",
        "and further derive a class ElectricCar that adds a battery attribute."
      ],
      "metadata": {
        "id": "bJOmnUUxmNLN"
      }
    },
    {
      "cell_type": "code",
      "source": [
        "class Vehicle:\n",
        "    def __init__(self, type):\n",
        "        self.type = type\n",
        "\n",
        "class Car(Vehicle):\n",
        "    def __init__(self, type, brand):\n",
        "        super().__init__(type)\n",
        "        self.brand = brand\n",
        "\n",
        "class ElectricCar(Car):\n",
        "    def __init__(self, type, brand, battery):\n",
        "        super().__init__(type, brand)\n",
        "        self.battery = battery\n",
        "\n",
        "# Output\n",
        "ec = ElectricCar(\"Car\", \"Tesla\", \"100 kWh\")\n",
        "print(ec.type)\n",
        "print(ec.brand)\n",
        "print(ec.battery)\n"
      ],
      "metadata": {
        "colab": {
          "base_uri": "https://localhost:8080/"
        },
        "id": "aFXAuh1ZmQwi",
        "outputId": "4ae1c19e-20f1-444b-f40b-cb4511318846"
      },
      "execution_count": 4,
      "outputs": [
        {
          "output_type": "stream",
          "name": "stdout",
          "text": [
            "Car\n",
            "Tesla\n",
            "100 kWh\n"
          ]
        }
      ]
    },
    {
      "cell_type": "markdown",
      "source": [
        "4. Demonstrate polymorphism by creating a base class Bird with a method fly(). Create two derived classes\n",
        "Sparrow and Penguin that override the fly() method.\n"
      ],
      "metadata": {
        "id": "DI-6fEa9mRaV"
      }
    },
    {
      "cell_type": "code",
      "source": [
        "class Bird:\n",
        "    def fly(self):\n",
        "        print(\"This bird can fly.\")\n",
        "\n",
        "class Sparrow(Bird):\n",
        "    def fly(self):\n",
        "        print(\"Sparrow flies high.\")\n",
        "\n",
        "class Penguin(Bird):\n",
        "    def fly(self):\n",
        "        print(\"Penguins can't fly.\")\n",
        "\n",
        "# Output\n",
        "birds = [Sparrow(), Penguin()]\n",
        "for bird in birds:\n",
        "    bird.fly()\n",
        "# Sparrow flies high.\n",
        "# Penguins can't fly.\n"
      ],
      "metadata": {
        "colab": {
          "base_uri": "https://localhost:8080/"
        },
        "id": "lD0R0jRVmWp-",
        "outputId": "199e10bd-b164-41e3-d56e-059be5b3c17d"
      },
      "execution_count": 5,
      "outputs": [
        {
          "output_type": "stream",
          "name": "stdout",
          "text": [
            "Sparrow flies high.\n",
            "Penguins can't fly.\n"
          ]
        }
      ]
    },
    {
      "cell_type": "markdown",
      "source": [
        "5. Write a program to demonstrate encapsulation by creating a class BankAccount with private attributes\n",
        "balance and methods to deposit, withdraw, and check balance."
      ],
      "metadata": {
        "id": "Z-yO6o-WmXHI"
      }
    },
    {
      "cell_type": "code",
      "source": [
        "class BankAccount:\n",
        "    def __init__(self, balance=0):\n",
        "        self.__balance = balance\n",
        "\n",
        "    def deposit(self, amount):\n",
        "        if amount > 0:\n",
        "            self.__balance += amount\n",
        "\n",
        "    def withdraw(self, amount):\n",
        "        if 0 < amount <= self.__balance:\n",
        "            self.__balance -= amount\n",
        "\n",
        "    def check_balance(self):\n",
        "        return self.__balance\n",
        "\n",
        "# Output\n",
        "acc = BankAccount()\n",
        "acc.deposit(500)\n",
        "acc.withdraw(200)\n",
        "print(acc.check_balance())  # 300\n"
      ],
      "metadata": {
        "colab": {
          "base_uri": "https://localhost:8080/"
        },
        "id": "h877CJdJmbIJ",
        "outputId": "dbd2a830-921f-44aa-84d2-ff3df955ae72"
      },
      "execution_count": 6,
      "outputs": [
        {
          "output_type": "stream",
          "name": "stdout",
          "text": [
            "300\n"
          ]
        }
      ]
    },
    {
      "cell_type": "markdown",
      "source": [
        "6. Demonstrate runtime polymorphism using a method play() in a base class Instrument. Derive classes Guitar\n",
        "and Piano that implement their own version of play()."
      ],
      "metadata": {
        "id": "0vuFyXtKmfcj"
      }
    },
    {
      "cell_type": "code",
      "source": [
        "class Instrument:\n",
        "    def play(self):\n",
        "        print(\"Playing an instrument.\")\n",
        "\n",
        "class Guitar(Instrument):\n",
        "    def play(self):\n",
        "        print(\"Strumming the guitar.\")\n",
        "\n",
        "class Piano(Instrument):\n",
        "    def play(self):\n",
        "        print(\"Playing the piano.\")\n",
        "\n",
        "# Output\n",
        "for inst in [Guitar(), Piano()]:\n",
        "    inst.play()\n",
        "# Strumming the guitar.\n",
        "# Playing the piano.\n"
      ],
      "metadata": {
        "colab": {
          "base_uri": "https://localhost:8080/"
        },
        "id": "T7YewW_mmi1I",
        "outputId": "193d9f9e-f64b-407d-a342-1350393f3e05"
      },
      "execution_count": 7,
      "outputs": [
        {
          "output_type": "stream",
          "name": "stdout",
          "text": [
            "Strumming the guitar.\n",
            "Playing the piano.\n"
          ]
        }
      ]
    },
    {
      "cell_type": "markdown",
      "source": [
        "7. Create a class MathOperations with a class method add_numbers() to add two numbers and a static\n",
        "method subtract_numbers() to subtract two numbers."
      ],
      "metadata": {
        "id": "SoyrtRPtmjm5"
      }
    },
    {
      "cell_type": "code",
      "source": [
        "class MathOperations:\n",
        "    @classmethod\n",
        "    def add_numbers(cls, a, b):\n",
        "        return a + b\n",
        "\n",
        "    @staticmethod\n",
        "    def subtract_numbers(a, b):\n",
        "        return a - b\n",
        "\n",
        "# Output\n",
        "print(MathOperations.add_numbers(10, 5))      # 15\n",
        "print(MathOperations.subtract_numbers(10, 5)) # 5\n"
      ],
      "metadata": {
        "colab": {
          "base_uri": "https://localhost:8080/"
        },
        "id": "aWxJSi1KmnII",
        "outputId": "9787511b-2b22-4303-ed15-93ad9b8f1cfc"
      },
      "execution_count": 8,
      "outputs": [
        {
          "output_type": "stream",
          "name": "stdout",
          "text": [
            "15\n",
            "5\n"
          ]
        }
      ]
    },
    {
      "cell_type": "markdown",
      "source": [
        "8. Implement a class Person with a class method to count the total number of persons created.\n",
        "\n",
        "\n"
      ],
      "metadata": {
        "id": "AaaXX4romnuT"
      }
    },
    {
      "cell_type": "code",
      "source": [
        "class Person:\n",
        "    count = 0\n",
        "\n",
        "    def __init__(self, name):\n",
        "        self.name = name\n",
        "        Person.count += 1\n",
        "\n",
        "    @classmethod\n",
        "    def total_persons(cls):\n",
        "        return cls.count\n",
        "\n",
        "# Output\n",
        "p1 = Person(\"Alice\")\n",
        "p2 = Person(\"Bob\")\n",
        "print(Person.total_persons())  # 2\n"
      ],
      "metadata": {
        "colab": {
          "base_uri": "https://localhost:8080/"
        },
        "id": "cniyL5hqmstN",
        "outputId": "080cfc5a-2298-4757-ca54-fa46b2f26d50"
      },
      "execution_count": 9,
      "outputs": [
        {
          "output_type": "stream",
          "name": "stdout",
          "text": [
            "2\n"
          ]
        }
      ]
    },
    {
      "cell_type": "markdown",
      "source": [
        "9. Write a class Fraction with attributes numerator and denominator. Override the str method to display the\n",
        "fraction as \"numerator/denominator\"."
      ],
      "metadata": {
        "id": "I50M2FHomtPr"
      }
    },
    {
      "cell_type": "code",
      "source": [
        "class Fraction:\n",
        "    def __init__(self, numerator, denominator):\n",
        "        self.numerator = numerator\n",
        "        self.denominator = denominator\n",
        "\n",
        "    def __str__(self):\n",
        "        return f\"{self.numerator}/{self.denominator}\"\n",
        "\n",
        "# Output\n",
        "f = Fraction(3, 4)\n",
        "print(f)  # 3/4\n"
      ],
      "metadata": {
        "colab": {
          "base_uri": "https://localhost:8080/"
        },
        "id": "IkG7VvLcmwN6",
        "outputId": "0aa700d4-9112-40c8-b158-104b42474a22"
      },
      "execution_count": 10,
      "outputs": [
        {
          "output_type": "stream",
          "name": "stdout",
          "text": [
            "3/4\n"
          ]
        }
      ]
    },
    {
      "cell_type": "markdown",
      "source": [
        "10. Demonstrate operator overloading by creating a class Vector and overriding the add method to add two\n",
        "vectors."
      ],
      "metadata": {
        "id": "0knTuLU7mwpx"
      }
    },
    {
      "cell_type": "code",
      "source": [
        "class Vector:\n",
        "    def __init__(self, x, y):\n",
        "        self.x = x\n",
        "        self.y = y\n",
        "\n",
        "    def __add__(self, other):\n",
        "        return Vector(self.x + other.x, self.y + other.y)\n",
        "\n",
        "    def __str__(self):\n",
        "        return f\"({self.x}, {self.y})\"\n",
        "\n",
        "# Output\n",
        "v1 = Vector(1, 2)\n",
        "v2 = Vector(3, 4)\n",
        "v3 = v1 + v2\n",
        "print(v3)  # (4, 6)\n"
      ],
      "metadata": {
        "colab": {
          "base_uri": "https://localhost:8080/"
        },
        "id": "CqsSYKOJm4HQ",
        "outputId": "53b717b1-0131-4f81-8168-32d9fa7faf0a"
      },
      "execution_count": 11,
      "outputs": [
        {
          "output_type": "stream",
          "name": "stdout",
          "text": [
            "(4, 6)\n"
          ]
        }
      ]
    },
    {
      "cell_type": "markdown",
      "source": [
        "11. Create a class Person with attributes name and age. Add a method greet() that prints \"Hello, my name is\n",
        "{name} and I am {age} years old.\"\n",
        "\n",
        "\n"
      ],
      "metadata": {
        "id": "yftpYNz_m5FX"
      }
    },
    {
      "cell_type": "code",
      "source": [
        "class Person:\n",
        "    def __init__(self, name, age):\n",
        "        self.name = name\n",
        "        self.age = age\n",
        "\n",
        "    def greet(self):\n",
        "        print(f\"Hello, my name is {self.name} and I am {self.age} years old.\")\n",
        "\n",
        "# Output\n",
        "p = Person(\"Alice\", 25)\n",
        "p.greet()  # Hello, my name is Alice and I am 25 years old.\n"
      ],
      "metadata": {
        "colab": {
          "base_uri": "https://localhost:8080/"
        },
        "id": "4E0XFvYQm8Xk",
        "outputId": "3a381959-e256-4ae8-8db7-29ae890ef473"
      },
      "execution_count": 12,
      "outputs": [
        {
          "output_type": "stream",
          "name": "stdout",
          "text": [
            "Hello, my name is Alice and I am 25 years old.\n"
          ]
        }
      ]
    },
    {
      "cell_type": "markdown",
      "source": [
        "12. Implement a class Student with attributes name and grades. Create a method average_grade() to compute\n",
        "the average of the grades."
      ],
      "metadata": {
        "id": "CjS0BBbXm8yO"
      }
    },
    {
      "cell_type": "code",
      "source": [
        "class Student:\n",
        "    def __init__(self, name, grades):\n",
        "        self.name = name\n",
        "        self.grades = grades\n",
        "\n",
        "    def average_grade(self):\n",
        "        return sum(self.grades) / len(self.grades) if self.grades else 0\n",
        "\n",
        "# Output\n",
        "s = Student(\"Bob\", [80, 90, 70])\n",
        "print(s.average_grade())  # 80.0\n"
      ],
      "metadata": {
        "colab": {
          "base_uri": "https://localhost:8080/"
        },
        "id": "DavvGSlgm_ki",
        "outputId": "5b18ff3b-0b79-428d-a892-557ade836755"
      },
      "execution_count": 13,
      "outputs": [
        {
          "output_type": "stream",
          "name": "stdout",
          "text": [
            "80.0\n"
          ]
        }
      ]
    },
    {
      "cell_type": "markdown",
      "source": [
        "13. Create a class Rectangle with methods set_dimensions() to set the dimensions and area() to calculate the\n",
        "area."
      ],
      "metadata": {
        "id": "gh4D6nQnnAOm"
      }
    },
    {
      "cell_type": "code",
      "source": [
        "class Rectangle:\n",
        "    def __init__(self):\n",
        "        self.length = 0\n",
        "        self.width = 0\n",
        "\n",
        "    def set_dimensions(self, length, width):\n",
        "        self.length = length\n",
        "        self.width = width\n",
        "\n",
        "    def area(self):\n",
        "        return self.length * self.width\n",
        "\n",
        "# Output\n",
        "rect = Rectangle()\n",
        "rect.set_dimensions(5, 3)\n",
        "print(\"Area of rectangle:\", rect.area())  # Area of rectangle: 15\n"
      ],
      "metadata": {
        "colab": {
          "base_uri": "https://localhost:8080/"
        },
        "id": "yu-TiCIMnE4R",
        "outputId": "8192347d-306a-469b-b8a7-6e30fd10257c"
      },
      "execution_count": 14,
      "outputs": [
        {
          "output_type": "stream",
          "name": "stdout",
          "text": [
            "Area of rectangle: 15\n"
          ]
        }
      ]
    },
    {
      "cell_type": "markdown",
      "source": [
        "14. Create a class Employee with a method calculate_salary() that computes the salary based on hours worked\n",
        "and hourly rate. Create a derived class Manager that adds a bonus to the salary."
      ],
      "metadata": {
        "id": "HBiAa6lunGIz"
      }
    },
    {
      "cell_type": "code",
      "source": [
        "class Employee:\n",
        "    def __init__(self, name, hours, rate):\n",
        "        self.name = name\n",
        "        self.hours = hours\n",
        "        self.rate = rate\n",
        "\n",
        "    def calculate_salary(self):\n",
        "        return self.hours * self.rate\n",
        "\n",
        "class Manager(Employee):\n",
        "    def __init__(self, name, hours, rate, bonus):\n",
        "        super().__init__(name, hours, rate)\n",
        "        self.bonus = bonus\n",
        "\n",
        "    def calculate_salary(self):\n",
        "        base_salary = super().calculate_salary()\n",
        "        return base_salary + self.bonus\n",
        "\n",
        "# Output\n",
        "emp = Employee(\"Alice\", 40, 20)\n",
        "print(f\"{emp.name}'s Salary:\", emp.calculate_salary())  # Alice's Salary: 800\n",
        "\n",
        "mgr = Manager(\"Bob\", 40, 30, 200)\n",
        "print(f\"{mgr.name}'s Salary with bonus:\", mgr.calculate_salary())  # Bob's Salary with bonus: 1400\n"
      ],
      "metadata": {
        "colab": {
          "base_uri": "https://localhost:8080/"
        },
        "id": "q0G6JesgnKly",
        "outputId": "7edc635d-4668-457a-ab04-ea5bfa04d2db"
      },
      "execution_count": 15,
      "outputs": [
        {
          "output_type": "stream",
          "name": "stdout",
          "text": [
            "Alice's Salary: 800\n",
            "Bob's Salary with bonus: 1400\n"
          ]
        }
      ]
    },
    {
      "cell_type": "markdown",
      "source": [
        "15. Create a class Product with attributes name, price, and quantity. Implement a method total_price() that\n",
        "calculates the total price of the product."
      ],
      "metadata": {
        "id": "UBoP5abEnLR6"
      }
    },
    {
      "cell_type": "code",
      "source": [
        "class Product:\n",
        "    def __init__(self, name, price, quantity):\n",
        "        self.name = name\n",
        "        self.price = price\n",
        "        self.quantity = quantity\n",
        "\n",
        "    def total_price(self):\n",
        "        return self.price * self.quantity\n",
        "\n",
        "# Output\n",
        "p = Product(\"Laptop\", 1000, 2)\n",
        "print(f\"Total price of {p.name}: ${p.total_price()}\")  # Total price of Laptop: $2000\n"
      ],
      "metadata": {
        "colab": {
          "base_uri": "https://localhost:8080/"
        },
        "id": "dEdHnLO1nRPr",
        "outputId": "f6ed9800-f58e-4ceb-8256-37c6e27f06a0"
      },
      "execution_count": 16,
      "outputs": [
        {
          "output_type": "stream",
          "name": "stdout",
          "text": [
            "Total price of Laptop: $2000\n"
          ]
        }
      ]
    },
    {
      "cell_type": "markdown",
      "source": [
        "16. Create a class Animal with an abstract method sound(). Create two derived classes Cow and Sheep that\n",
        "implement the sound() method."
      ],
      "metadata": {
        "id": "Yu3jGGLunRlI"
      }
    },
    {
      "cell_type": "code",
      "source": [
        "from abc import ABC, abstractmethod\n",
        "\n",
        "class Animal(ABC):\n",
        "    @abstractmethod\n",
        "    def sound(self):\n",
        "        pass\n",
        "\n",
        "class Cow(Animal):\n",
        "    def sound(self):\n",
        "        return \"Moo\"\n",
        "\n",
        "class Sheep(Animal):\n",
        "    def sound(self):\n",
        "        return \"Baa\"\n",
        "\n",
        "# Output\n",
        "c = Cow()\n",
        "s = Sheep()\n",
        "print(\"Cow sound:\", c.sound())     # Cow sound: Moo\n",
        "print(\"Sheep sound:\", s.sound())   # Sheep sound: Baa\n"
      ],
      "metadata": {
        "colab": {
          "base_uri": "https://localhost:8080/"
        },
        "id": "BVFM1IxAnVYK",
        "outputId": "62dbbf81-b303-4755-d5c3-660d0308f97b"
      },
      "execution_count": 17,
      "outputs": [
        {
          "output_type": "stream",
          "name": "stdout",
          "text": [
            "Cow sound: Moo\n",
            "Sheep sound: Baa\n"
          ]
        }
      ]
    },
    {
      "cell_type": "markdown",
      "source": [
        "17. Create a class Book with attributes title, author, and year_published. Add a method get_book_info() that\n",
        "returns a formatted string with the book's details."
      ],
      "metadata": {
        "id": "jeSdQcwrnVv6"
      }
    },
    {
      "cell_type": "code",
      "source": [
        "class Book:\n",
        "    def __init__(self, title, author, year_published):\n",
        "        self.title = title\n",
        "        self.author = author\n",
        "        self.year_published = year_published\n",
        "\n",
        "    def get_book_info(self):\n",
        "        return f\"'{self.title}' by {self.author} (Published: {self.year_published})\"\n",
        "\n",
        "# Output\n",
        "book = Book(\"1984\", \"George Orwell\", 1949)\n",
        "print(book.get_book_info())  # '1984' by George Orwell (Published: 1949)\n"
      ],
      "metadata": {
        "colab": {
          "base_uri": "https://localhost:8080/"
        },
        "id": "MNCbMdjenamz",
        "outputId": "66d87d04-5b63-48c3-cc18-30059879e97e"
      },
      "execution_count": 18,
      "outputs": [
        {
          "output_type": "stream",
          "name": "stdout",
          "text": [
            "'1984' by George Orwell (Published: 1949)\n"
          ]
        }
      ]
    },
    {
      "cell_type": "markdown",
      "source": [
        "18. Create a class House with attributes address and price. Create a derived class Mansion that adds an\n",
        "attribute number_of_rooms."
      ],
      "metadata": {
        "id": "x0SyGcNVnbVg"
      }
    },
    {
      "cell_type": "code",
      "source": [
        "class House:\n",
        "    def __init__(self, address, price):\n",
        "        self.address = address\n",
        "        self.price = price\n",
        "\n",
        "class Mansion(House):\n",
        "    def __init__(self, address, price, number_of_rooms):\n",
        "        super().__init__(address, price)\n",
        "        self.number_of_rooms = number_of_rooms\n",
        "\n",
        "# Output\n",
        "m = Mansion(\"123 Luxury St\", 5000000, 10)\n",
        "print(\"Address:\", m.address)              # Address: 123 Luxury St\n",
        "print(\"Price: $\", m.price)                # Price: $ 5000000\n",
        "print(\"Rooms:\", m.number_of_rooms)        # Rooms: 10\n"
      ],
      "metadata": {
        "colab": {
          "base_uri": "https://localhost:8080/"
        },
        "id": "aGWcCcZanfKk",
        "outputId": "19d9241f-84f9-44c0-fe5f-a6fa06385495"
      },
      "execution_count": 19,
      "outputs": [
        {
          "output_type": "stream",
          "name": "stdout",
          "text": [
            "Address: 123 Luxury St\n",
            "Price: $ 5000000\n",
            "Rooms: 10\n"
          ]
        }
      ]
    }
  ]
}