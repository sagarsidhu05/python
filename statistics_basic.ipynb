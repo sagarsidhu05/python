{
  "nbformat": 4,
  "nbformat_minor": 0,
  "metadata": {
    "colab": {
      "provenance": []
    },
    "kernelspec": {
      "name": "python3",
      "display_name": "Python 3"
    },
    "language_info": {
      "name": "python"
    }
  },
  "cells": [
    {
      "cell_type": "markdown",
      "source": [
        "***THEORY QUESTION***\n",
        "\n",
        "📌 What is statistics, and why is it important?\n",
        "ANS=Statistics is the science of collecting, organizing, analyzing, and interpreting data. It helps in making decisions based on data and understanding patterns or trends. Statistics is used in science, business, government, and daily life.\n",
        "\n",
        "📌 What are the two main types of statistics?\n",
        "ANS=Statistics is divided into descriptive (summarizes data) and inferential (draws conclusions from samples). Both help us understand data and make predictions.\n",
        "\n",
        "📌 What are descriptive statistics?\n",
        "ANS=Descriptive statistics summarize and describe the features of a dataset using measures like mean, median, mode, and graphs. It gives a quick overview of the data.\n",
        "\n",
        "📌 What is inferential statistics?\n",
        "ANS=Inferential statistics helps us draw conclusions about a population based on a sample. It uses tools like hypothesis testing, confidence intervals, and regression.\n",
        "\n",
        "📌 What is sampling in statistics?\n",
        "ANS=Sampling is selecting a part of the population to represent the whole. It makes data collection practical and cost-effective.\n",
        "\n",
        "📌 What are the different types of sampling methods?\n",
        "ANS=Sampling methods include random (simple, stratified, cluster) and non-random (convenience, quota, judgmental). The method affects accuracy and bias.\n",
        "\n",
        "📌 What is the difference between random and non-random sampling?\n",
        "ANS=Random sampling gives equal chance to all, reducing bias. Non-random sampling relies on subjective choice, increasing bias risk.\n",
        "\n",
        "📌 Define and give examples of qualitative and quantitative data\n",
        "ANS=Qualitative data is non-numeric (e.g., colors, brands), while quantitative data is numeric (e.g., height, age).\n",
        "\n",
        "📌 What are the different types of data in statistics?\n",
        "ANS=Data can be qualitative (nominal, ordinal) or quantitative (interval, ratio). Type guides analysis method.\n",
        "\n",
        "📌 Explain nominal, ordinal, interval, and ratio levels of measurement\n",
        "ANS=Nominal: categories (e.g., gender)\n",
        "Ordinal: ordered categories (e.g., ranks)\n",
        "Interval: numeric, no true zero (e.g., temperature)\n",
        "Ratio: numeric, true zero (e.g., weight)\n",
        "\n",
        "📌 What is the measure of central tendency?\n",
        "ANS=It identifies the center or typical value of a dataset. Common measures are mean, median, and mode.\n",
        "\n",
        "📌 Define mean, median, and mode\n",
        "ANS=Mean: average of values.\n",
        "Median: middle value when data is ordered.\n",
        "Mode: most frequent value.\n",
        "\n",
        "📌 What is the significance of the measure of central tendency?\n",
        "ANS=It helps summarize data with a single value that represents the entire dataset, aiding comparison and analysis.\n",
        "\n",
        "📌 What is variance, and how is it calculated?\n",
        "ANS=Variance measures data spread by averaging the squared differences from the mean. It shows variability in the dataset.\n",
        "\n",
        "📌 What is standard deviation, and why is it important?\n",
        "ANS=Standard deviation is the square root of variance. It shows how much data deviates from the mean, making variability easier to interpret.\n",
        "\n",
        "📌 Define and explain the term range in statistics\n",
        "ANS=Range is the difference between the largest and smallest values. It’s a simple measure of spread.\n",
        "\n",
        "📌 What is the difference between variance and standard deviation?\n",
        "ANS=Variance measures spread in squared units, while standard deviation is its square root, in the same units as data.\n",
        "\n",
        "📌 What is skewness in a dataset?\n",
        "ANS=Skewness measures asymmetry in data distribution. It tells if data is balanced or has a longer tail on one side.\n",
        "\n",
        "📌 What does it mean if a dataset is positively or negatively skewed?\n",
        "ANS=Positively skewed: tail on right (higher values).\n",
        "Negatively skewed: tail on left (lower values).\n",
        "\n",
        "📌 Define and explain kurtosis\n",
        "ANS=Kurtosis measures how peaked or flat a distribution is compared to normal. High kurtosis means more extreme values.\n",
        "\n",
        "📌 What is the purpose of covariance?\n",
        "ANS=Covariance shows how two variables change together. Positive covariance means they move in the same direction.\n",
        "\n",
        "📌 What does correlation measure in statistics?\n",
        "ANS=Correlation measures strength and direction of the linear relationship between two variables. It ranges from -1 to +1.\n",
        "\n",
        "📌 What is the difference between covariance and correlation?\n",
        "ANS=Covariance gives the direction of relation but not strength. Correlation standardizes this to measure both direction and strength.\n",
        "\n",
        "📌 What are some real-world applications of statistics?\n",
        "ANS=Statistics is used in business forecasting, medical research, quality control, government policy, and sports analytics.\n",
        "\n"
      ],
      "metadata": {
        "id": "rjx74GhwS0Te"
      }
    },
    {
      "cell_type": "markdown",
      "source": [
        "***PRACTICAL QUESTION***\n",
        "\n",
        "1.How do you calculate the mean, median, and mode of a dataset\n",
        "\n",
        "2.Write a Python program to compute the variance and standard deviation of a dataset\n",
        "\n",
        "3.Create a dataset and classify it into nominal, ordinal, interval, and ratio types\n",
        "\n",
        "4.Implement sampling techniques like random sampling and stratified sampling\n",
        "\n",
        "5.Write a Python function to calculate the range of a dataset\n",
        "\n",
        "6.Create a dataset and plot its histogram to visualize skewness\n",
        "\n",
        "7.Calculate skewness and kurtosis of a dataset using Python libraries\n",
        "\n",
        "8.Generate a dataset and demonstrate positive and negative skewness\n",
        "\n",
        "9.Write a Python script to calculate covariance between two datasets\n",
        "\n",
        "10.Write a Python script to calculate the correlation coefficient between two datasets\n",
        "\n",
        "11.Create a scatter plot to visualize the relationship between two variables\n",
        "\n",
        "12.Implement and compare simple random sampling and systematic sampling\n",
        "\n",
        "13.Calculate the mean, median, and mode of grouped data\n",
        "\n",
        "14.Simulate data using Python and calculate its central tendency and dispersion.\n",
        "\n",
        "15.Use NumPy or pandas to summarize a dataset’s descriptive statistics\n",
        "\n",
        "16.Plot a boxplot to understand the spread and identify outliers\n",
        "\n",
        "\n",
        "17.Calculate the interquartile range (IQR) of a dataset\n",
        "\n",
        "18.Implement Z-score normalization and explain its significance\n",
        "\n",
        "19.Compare two datasets using their standard deviations\n",
        "\n",
        "20.Write a Python program to visualize covariance using a heatmap\n",
        "\n",
        "21.Use seaborn to create a correlation matrix for a dataset\n",
        "\n",
        "22.Generate a dataset and implement both variance and standard deviation computations\n",
        "\n",
        "23.Visualize skewness and kurtosis using Python libraries like matplotlib or seaborn\n",
        "\n",
        "24.Implement the Pearson and Spearman correlation coefficients for a dataset."
      ],
      "metadata": {
        "id": "kN0L8y57UGPJ"
      }
    },
    {
      "cell_type": "code",
      "source": [
        "import statistics\n",
        "\n",
        "data = [10, 20, 20, 30, 40]\n",
        "print(\"Mean:\", statistics.mean(data))\n",
        "print(\"Median:\", statistics.median(data))\n",
        "print(\"Mode:\", statistics.mode(data))\n"
      ],
      "metadata": {
        "colab": {
          "base_uri": "https://localhost:8080/"
        },
        "id": "mmlJcz68WS1i",
        "outputId": "22d103f3-60a4-4123-9de0-a18e6d58dabf"
      },
      "execution_count": 1,
      "outputs": [
        {
          "output_type": "stream",
          "name": "stdout",
          "text": [
            "Mean: 24\n",
            "Median: 20\n",
            "Mode: 20\n"
          ]
        }
      ]
    },
    {
      "cell_type": "code",
      "source": [
        "import statistics\n",
        "\n",
        "data = [10, 20, 30, 40, 50]\n",
        "print(\"Variance:\", statistics.variance(data))\n",
        "print(\"Standard Deviation:\", statistics.stdev(data))\n"
      ],
      "metadata": {
        "colab": {
          "base_uri": "https://localhost:8080/"
        },
        "id": "I7He6UkTXB6I",
        "outputId": "02bf6bfa-fff4-4c08-8e0c-b4c6a59d50a0"
      },
      "execution_count": 2,
      "outputs": [
        {
          "output_type": "stream",
          "name": "stdout",
          "text": [
            "Variance: 250\n",
            "Standard Deviation: 15.811388300841896\n"
          ]
        }
      ]
    },
    {
      "cell_type": "code",
      "source": [
        "# Nominal: categories\n",
        "colors = [\"Red\", \"Blue\", \"Green\"]\n",
        "# Ordinal: ordered categories\n",
        "grades = [\"Poor\", \"Fair\", \"Good\", \"Excellent\"]\n",
        "# Interval: numeric, no true zero\n",
        "temperature = [30, 40, 50]\n",
        "# Ratio: numeric, true zero\n",
        "weights = [50, 60, 70]\n"
      ],
      "metadata": {
        "id": "an0EyVgWXJvA"
      },
      "execution_count": 3,
      "outputs": []
    },
    {
      "cell_type": "code",
      "source": [
        "import pandas as pd\n",
        "from sklearn.model_selection import train_test_split\n",
        "\n",
        "df = pd.DataFrame({'Group': ['A']*50 + ['B']*50, 'Value': range(100)})\n",
        "\n",
        "# Random sampling\n",
        "sample_random = df.sample(n=10)\n",
        "\n",
        "# Stratified sampling\n",
        "sample_strat, _ = train_test_split(df, test_size=0.9, stratify=df['Group'])\n",
        "\n",
        "print(sample_random)\n",
        "print(sample_strat)\n"
      ],
      "metadata": {
        "colab": {
          "base_uri": "https://localhost:8080/"
        },
        "id": "b7O989a6XNk3",
        "outputId": "3273a6c6-839d-4518-91fe-efdd5808be82"
      },
      "execution_count": 4,
      "outputs": [
        {
          "output_type": "stream",
          "name": "stdout",
          "text": [
            "   Group  Value\n",
            "63     B     63\n",
            "57     B     57\n",
            "56     B     56\n",
            "9      A      9\n",
            "81     B     81\n",
            "38     A     38\n",
            "34     A     34\n",
            "30     A     30\n",
            "25     A     25\n",
            "55     B     55\n",
            "   Group  Value\n",
            "10     A     10\n",
            "82     B     82\n",
            "67     B     67\n",
            "93     B     93\n",
            "32     A     32\n",
            "33     A     33\n",
            "14     A     14\n",
            "21     A     21\n",
            "72     B     72\n",
            "63     B     63\n"
          ]
        }
      ]
    },
    {
      "cell_type": "code",
      "source": [
        "def calc_range(data):\n",
        "    return max(data) - min(data)\n",
        "\n",
        "data = [10, 20, 30, 40, 50]\n",
        "print(\"Range:\", calc_range(data))\n"
      ],
      "metadata": {
        "colab": {
          "base_uri": "https://localhost:8080/"
        },
        "id": "Y2GJbz1ZXaKt",
        "outputId": "56586742-18fd-4445-ceb8-673e1f579aaf"
      },
      "execution_count": 5,
      "outputs": [
        {
          "output_type": "stream",
          "name": "stdout",
          "text": [
            "Range: 40\n"
          ]
        }
      ]
    },
    {
      "cell_type": "code",
      "source": [
        "import matplotlib.pyplot as plt\n",
        "import numpy as np\n",
        "\n",
        "data = np.random.exponential(scale=2, size=1000)\n",
        "plt.hist(data, bins=30)\n",
        "plt.title(\"Histogram showing skewness\")\n",
        "plt.show()\n"
      ],
      "metadata": {
        "colab": {
          "base_uri": "https://localhost:8080/",
          "height": 452
        },
        "id": "66uKe_KzXcP6",
        "outputId": "34a9429e-1ac1-41bf-b0a3-a86abd1bc2dc"
      },
      "execution_count": 6,
      "outputs": [
        {
          "output_type": "display_data",
          "data": {
            "text/plain": [
              "<Figure size 640x480 with 1 Axes>"
            ],
            "image/png": "[encoded data removed]"
          },
          "metadata": {}
        }
      ]
    },
    {
      "cell_type": "code",
      "source": [
        "from scipy.stats import skew, kurtosis\n",
        "\n",
        "data = np.random.exponential(scale=2, size=1000)\n",
        "print(\"Skewness:\", skew(data))\n",
        "print(\"Kurtosis:\", kurtosis(data))\n"
      ],
      "metadata": {
        "colab": {
          "base_uri": "https://localhost:8080/"
        },
        "id": "OloV9FpWXjlR",
        "outputId": "75e3926b-7484-490c-a595-8dcf8e24cadb"
      },
      "execution_count": 7,
      "outputs": [
        {
          "output_type": "stream",
          "name": "stdout",
          "text": [
            "Skewness: 2.1553335690888282\n",
            "Kurtosis: 7.091566679157907\n"
          ]
        }
      ]
    },
    {
      "cell_type": "code",
      "source": [
        "# Positive skew\n",
        "pos_skew = np.random.exponential(scale=2, size=1000)\n",
        "# Negative skew (flip)\n",
        "neg_skew = -np.random.exponential(scale=2, size=1000)\n",
        "\n",
        "plt.hist(pos_skew, bins=30)\n",
        "plt.title(\"Positive Skew\")\n",
        "plt.show()\n",
        "\n",
        "plt.hist(neg_skew, bins=30)\n",
        "plt.title(\"Negative Skew\")\n",
        "plt.show()\n"
      ],
      "metadata": {
        "colab": {
          "base_uri": "https://localhost:8080/",
          "height": 887
        },
        "id": "gqJSUe6gXm0c",
        "outputId": "db7a1b88-24bb-445d-d179-025d24066dd0"
      },
      "execution_count": 8,
      "outputs": [
        {
          "output_type": "display_data",
          "data": {
            "text/plain": [
              "<Figure size 640x480 with 1 Axes>"
            ],
            "image/png": "[encoded data removed]"
          },
          "metadata": {}
        },
        {
          "output_type": "display_data",
          "data": {
            "text/plain": [
              "<Figure size 640x480 with 1 Axes>"
            ],
            "image/png": "[encoded data removed]"
          },
          "metadata": {}
        }
      ]
    },
    {
      "cell_type": "code",
      "source": [
        "import numpy as np\n",
        "\n",
        "x = [10, 20, 30]\n",
        "y = [15, 25, 35]\n",
        "\n",
        "cov_matrix = np.cov(x, y)\n",
        "print(\"Covariance:\\n\", cov_matrix)\n"
      ],
      "metadata": {
        "colab": {
          "base_uri": "https://localhost:8080/"
        },
        "id": "5NUQua5KXuk2",
        "outputId": "f6f61546-d1ee-4fda-f6c1-4b0ee955a110"
      },
      "execution_count": 9,
      "outputs": [
        {
          "output_type": "stream",
          "name": "stdout",
          "text": [
            "Covariance:\n",
            " [[100. 100.]\n",
            " [100. 100.]]\n"
          ]
        }
      ]
    },
    {
      "cell_type": "code",
      "source": [
        "corr_matrix = np.corrcoef(x, y)\n",
        "print(\"Correlation coefficient:\\n\", corr_matrix)\n"
      ],
      "metadata": {
        "colab": {
          "base_uri": "https://localhost:8080/"
        },
        "id": "hVml8EGrXzbI",
        "outputId": "00f07f52-34b6-4431-d17d-f26f8c03b29d"
      },
      "execution_count": 10,
      "outputs": [
        {
          "output_type": "stream",
          "name": "stdout",
          "text": [
            "Correlation coefficient:\n",
            " [[1. 1.]\n",
            " [1. 1.]]\n"
          ]
        }
      ]
    },
    {
      "cell_type": "code",
      "source": [
        "plt.scatter(x, y)\n",
        "plt.title(\"Scatter Plot\")\n",
        "plt.xlabel(\"X\")\n",
        "plt.ylabel(\"Y\")\n",
        "plt.show()\n"
      ],
      "metadata": {
        "colab": {
          "base_uri": "https://localhost:8080/",
          "height": 472
        },
        "id": "nr-hMgSOX5JE",
        "outputId": "13ec6392-d0d3-4497-9912-8b8ba0a056cd"
      },
      "execution_count": 11,
      "outputs": [
        {
          "output_type": "display_data",
          "data": {
            "text/plain": [
              "<Figure size 640x480 with 1 Axes>"
            ],
            "image/png": "[encoded data removed]"
          },
          "metadata": {}
        }
      ]
    },
    {
      "cell_type": "code",
      "source": [
        "import numpy as np\n",
        "\n",
        "data = np.arange(1, 101)\n",
        "\n",
        "# Simple random\n",
        "simple_random = np.random.choice(data, 10, replace=False)\n",
        "\n",
        "# Systematic\n",
        "step = len(data) // 10\n",
        "systematic = data[::step][:10]\n",
        "\n",
        "print(\"Simple Random Sample:\", simple_random)\n",
        "print(\"Systematic Sample:\", systematic)\n"
      ],
      "metadata": {
        "colab": {
          "base_uri": "https://localhost:8080/"
        },
        "id": "0HDIs6_0X-nZ",
        "outputId": "30686ca8-df91-4773-a97b-56d21dd745c7"
      },
      "execution_count": 12,
      "outputs": [
        {
          "output_type": "stream",
          "name": "stdout",
          "text": [
            "Simple Random Sample: [92 95 18 61 82 88  9 45 20 40]\n",
            "Systematic Sample: [ 1 11 21 31 41 51 61 71 81 91]\n"
          ]
        }
      ]
    },
    {
      "cell_type": "code",
      "source": [
        "import pandas as pd\n",
        "\n",
        "df = pd.DataFrame({'Class': ['10-20', '20-30', '30-40'],\n",
        "                   'Frequency': [5, 8, 7]})\n",
        "\n",
        "# Approximate mean (midpoint * freq / total)\n",
        "df['Mid'] = [15, 25, 35]\n",
        "mean = (df['Mid'] * df['Frequency']).sum() / df['Frequency'].sum()\n",
        "print(\"Grouped Mean:\", mean)\n"
      ],
      "metadata": {
        "colab": {
          "base_uri": "https://localhost:8080/"
        },
        "id": "Ym7nVIJvYDlP",
        "outputId": "f4ab7a7a-1395-4156-b2ab-b3304c3b8328"
      },
      "execution_count": 13,
      "outputs": [
        {
          "output_type": "stream",
          "name": "stdout",
          "text": [
            "Grouped Mean: 26.0\n"
          ]
        }
      ]
    },
    {
      "cell_type": "code",
      "source": [
        "data = np.random.normal(loc=50, scale=10, size=1000)\n",
        "print(\"Mean:\", np.mean(data))\n",
        "print(\"Median:\", np.median(data))\n",
        "print(\"Std Dev:\", np.std(data))\n",
        "print(\"Variance:\", np.var(data))\n"
      ],
      "metadata": {
        "colab": {
          "base_uri": "https://localhost:8080/"
        },
        "id": "KqOXnH2bYHPQ",
        "outputId": "5a5ff81d-6a60-4b61-bc51-65ba6effb10e"
      },
      "execution_count": 14,
      "outputs": [
        {
          "output_type": "stream",
          "name": "stdout",
          "text": [
            "Mean: 49.993703119463845\n",
            "Median: 49.978629127716374\n",
            "Std Dev: 10.450874196967503\n",
            "Variance: 109.22077148084112\n"
          ]
        }
      ]
    },
    {
      "cell_type": "code",
      "source": [
        "import pandas as pd\n",
        "import numpy as np\n",
        "\n",
        "data = pd.DataFrame({'A': np.random.normal(50, 10, 100)})\n",
        "print(data.describe())\n"
      ],
      "metadata": {
        "colab": {
          "base_uri": "https://localhost:8080/"
        },
        "id": "JTaLkEU0YW20",
        "outputId": "686cc71c-e268-4480-b699-cbd47c6085ca"
      },
      "execution_count": 15,
      "outputs": [
        {
          "output_type": "stream",
          "name": "stdout",
          "text": [
            "                A\n",
            "count  100.000000\n",
            "mean    48.934507\n",
            "std     10.156923\n",
            "min     24.357259\n",
            "25%     41.850609\n",
            "50%     49.010835\n",
            "75%     55.205852\n",
            "max     75.619855\n"
          ]
        }
      ]
    },
    {
      "cell_type": "code",
      "source": [
        "import matplotlib.pyplot as plt\n",
        "\n",
        "data.boxplot(column='A')\n",
        "plt.title(\"Boxplot of A\")\n",
        "plt.show()\n"
      ],
      "metadata": {
        "colab": {
          "base_uri": "https://localhost:8080/",
          "height": 452
        },
        "id": "Pg2DJvRfYZZK",
        "outputId": "57576aaa-f9b1-4ce3-d184-2a346ce5e5e1"
      },
      "execution_count": 16,
      "outputs": [
        {
          "output_type": "display_data",
          "data": {
            "text/plain": [
              "<Figure size 640x480 with 1 Axes>"
            ],
            "image/png": "[encoded data removed]"
          },
          "metadata": {}
        }
      ]
    },
    {
      "cell_type": "code",
      "source": [
        "Q1 = data['A'].quantile(0.25)\n",
        "Q3 = data['A'].quantile(0.75)\n",
        "IQR = Q3 - Q1\n",
        "print(\"IQR:\", IQR)\n"
      ],
      "metadata": {
        "colab": {
          "base_uri": "https://localhost:8080/"
        },
        "id": "UxFr-NdAYeg2",
        "outputId": "5ccc30a1-d0dc-4b59-f534-824e031c830b"
      },
      "execution_count": 17,
      "outputs": [
        {
          "output_type": "stream",
          "name": "stdout",
          "text": [
            "IQR: 13.355242917266423\n"
          ]
        }
      ]
    },
    {
      "cell_type": "code",
      "source": [
        "z_scores = (data['A'] - data['A'].mean()) / data['A'].std()\n",
        "print(z_scores.head())\n"
      ],
      "metadata": {
        "colab": {
          "base_uri": "https://localhost:8080/"
        },
        "id": "9pf7edYKYkI9",
        "outputId": "48fba345-706e-4224-904d-3b650cd4215d"
      },
      "execution_count": 18,
      "outputs": [
        {
          "output_type": "stream",
          "name": "stdout",
          "text": [
            "0   -0.678979\n",
            "1   -0.333036\n",
            "2   -2.419753\n",
            "3    1.267283\n",
            "4   -0.728480\n",
            "Name: A, dtype: float64\n"
          ]
        }
      ]
    },
    {
      "cell_type": "code",
      "source": [
        "data2 = pd.Series(np.random.normal(50, 20, 100))\n",
        "print(\"Std A:\", data['A'].std())\n",
        "print(\"Std B:\", data2.std())\n"
      ],
      "metadata": {
        "colab": {
          "base_uri": "https://localhost:8080/"
        },
        "id": "t5e-0F6uYoQJ",
        "outputId": "d512abb7-b62e-4a42-96c8-62a22c9c15f5"
      },
      "execution_count": 19,
      "outputs": [
        {
          "output_type": "stream",
          "name": "stdout",
          "text": [
            "Std A: 10.156923024403612\n",
            "Std B: 22.530772887737587\n"
          ]
        }
      ]
    },
    {
      "cell_type": "code",
      "source": [
        "import seaborn as sns\n",
        "\n",
        "df = pd.DataFrame({'X': np.random.rand(100), 'Y': np.random.rand(100)})\n",
        "cov = df.cov()\n",
        "sns.heatmap(cov, annot=True, cmap='coolwarm')\n",
        "plt.title(\"Covariance Heatmap\")\n",
        "plt.show()\n"
      ],
      "metadata": {
        "colab": {
          "base_uri": "https://localhost:8080/",
          "height": 452
        },
        "id": "U4xIm7h0YrxL",
        "outputId": "175d01ba-c963-433a-d27b-9fd2b5c22a5f"
      },
      "execution_count": 20,
      "outputs": [
        {
          "output_type": "display_data",
          "data": {
            "text/plain": [
              "<Figure size 640x480 with 2 Axes>"
            ],
            "image/png": "[encoded data removed]"
          },
          "metadata": {}
        }
      ]
    },
    {
      "cell_type": "code",
      "source": [
        "corr = df.corr()\n",
        "sns.heatmap(corr, annot=True, cmap='coolwarm')\n",
        "plt.title(\"Correlation Matrix\")\n",
        "plt.show()\n"
      ],
      "metadata": {
        "colab": {
          "base_uri": "https://localhost:8080/",
          "height": 452
        },
        "id": "6HwvTNu0YxLZ",
        "outputId": "989c86e8-caf9-45b3-aecd-0dc7fe982397"
      },
      "execution_count": 21,
      "outputs": [
        {
          "output_type": "display_data",
          "data": {
            "text/plain": [
              "<Figure size 640x480 with 2 Axes>"
            ],
            "image/png": "[encoded data removed]"
          },
          "metadata": {}
        }
      ]
    },
    {
      "cell_type": "code",
      "source": [
        "data3 = np.random.normal(100, 15, 200)\n",
        "print(\"Variance:\", np.var(data3))\n",
        "print(\"Std Dev:\", np.std(data3))\n"
      ],
      "metadata": {
        "colab": {
          "base_uri": "https://localhost:8080/"
        },
        "id": "KhYCgWYQY2cb",
        "outputId": "d58bf023-f493-42f6-f9f0-b90639d9ee9f"
      },
      "execution_count": 22,
      "outputs": [
        {
          "output_type": "stream",
          "name": "stdout",
          "text": [
            "Variance: 226.53168676521003\n",
            "Std Dev: 15.050969628738542\n"
          ]
        }
      ]
    },
    {
      "cell_type": "code",
      "source": [
        "from scipy.stats import skew, kurtosis\n",
        "\n",
        "sns.histplot(data3, bins=30, kde=True)\n",
        "plt.title(\"Histogram with Skewness and Kurtosis\")\n",
        "plt.show()\n",
        "\n",
        "print(\"Skewness:\", skew(data3))\n",
        "print(\"Kurtosis:\", kurtosis(data3))\n"
      ],
      "metadata": {
        "colab": {
          "base_uri": "https://localhost:8080/",
          "height": 487
        },
        "id": "6d13eAPMY6RD",
        "outputId": "558cf5bb-e8aa-496e-d164-df1f6410800f"
      },
      "execution_count": 23,
      "outputs": [
        {
          "output_type": "display_data",
          "data": {
            "text/plain": [
              "<Figure size 640x480 with 1 Axes>"
            ],
            "image/png": "[encoded data removed]"
          },
          "metadata": {}
        },
        {
          "output_type": "stream",
          "name": "stdout",
          "text": [
            "Skewness: -0.28176364479798294\n",
            "Kurtosis: 0.07419001457305585\n"
          ]
        }
      ]
    },
    {
      "cell_type": "code",
      "source": [
        "from scipy.stats import pearsonr, spearmanr\n",
        "\n",
        "x = np.random.rand(100)\n",
        "y = np.random.rand(100)\n",
        "\n",
        "pearson_corr, _ = pearsonr(x, y)\n",
        "spearman_corr, _ = spearmanr(x, y)\n",
        "\n",
        "print(\"Pearson Correlation:\", pearson_corr)\n",
        "print(\"Spearman Correlation:\", spearman_corr)\n"
      ],
      "metadata": {
        "colab": {
          "base_uri": "https://localhost:8080/"
        },
        "id": "FXwzptgsZAL7",
        "outputId": "d2f14786-7af9-41b6-c21c-ee83fa115495"
      },
      "execution_count": 24,
      "outputs": [
        {
          "output_type": "stream",
          "name": "stdout",
          "text": [
            "Pearson Correlation: 0.012510170700309032\n",
            "Spearman Correlation: -0.002232223222322232\n"
          ]
        }
      ]
    }
  ]
}