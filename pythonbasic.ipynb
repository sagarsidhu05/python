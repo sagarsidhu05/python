{
  "nbformat": 4,
  "nbformat_minor": 0,
  "metadata": {
    "colab": {
      "provenance": []
    },
    "kernelspec": {
      "name": "python3",
      "display_name": "Python 3"
    },
    "language_info": {
      "name": "python"
    }
  },
  "cells": [
    {
      "cell_type": "markdown",
      "source": [
        "**PYTHON BASIC QUESTIONS**"
      ],
      "metadata": {
        "id": "1j1LStHAm_qO"
      }
    },
    {
      "cell_type": "markdown",
      "source": [
        "# 1.What is Python, and why is it popular?\n",
        "ANS=Python is a high-level, general-purpose programming language known for its readability and ease of use.\n",
        "It supports multiple paradigms and has a vast library ecosystem, making it popular for web development, data science, automation, and more.\n",
        "\n",
        "# 2.What is an interpreter in Python?\n",
        "ANS=An interpreter executes code line by line, translating Python code into machine code at runtime.\n",
        "This allows immediate feedback and easier debugging during development.\n",
        "\n",
        "# 3.What are pre-defined keywords in Python?\n",
        "ANS=Keywords are reserved words that have special meaning in Python, like if, while, and def.\n",
        "They are used to define the structure and syntax of Python programs.\n",
        "\n",
        "# 4.Can keywords be used as variable names ?\n",
        "ANS=No, keywords cannot be used as variable names.\n",
        "Doing so will result in a syntax error, as Python reserves these words for specific functions.\n",
        "\n",
        "# 5.What is mutability in Python ?\n",
        "ANS=Mutability refers to whether an object can be changed after creation.\n",
        "Mutable objects (like lists) can change, while immutable ones (like strings, tuples) cannot.\n",
        "\n",
        "# 6.Why are lists mutable, but tuples are immutabl?\n",
        "ANS=Lists are designed to allow modifications, making them flexible for dynamic data.\n",
        "Tuples are immut\n",
        "ble to ensure data integrity and allow safe use as dictionary keys.\n",
        "\n",
        "# 7.What is the difference between “==” and “is” operators in Python ?\n",
        "ANS= == checks if values are equal, while is checks if two variables refer to the same object.\n",
        "is compares identities; == compares content.\n",
        "\n",
        "# 8.What are logical operators in Python ?\n",
        "ANS=Logical operators like and, or, and not are used to combine boolean expressions.\n",
        "They return True or False based on the logic between operands.\n",
        "\n",
        "# 9.What is type casting in Python ?\n",
        "ANS=Type casting converts a value from one data type to another.\n",
        "It can be used to change a string to an integer, a float to a string, etc.\n",
        "\n",
        "# 10.What is the difference between implicit and explicit type casting ?\n",
        "ANS=Implicit casting is done automtically by Python during operations.\n",
        "Explicit casting is done manually using functions like int(), float(), or str().\n",
        "\n",
        "# 11.What is the purpose of conditional statements in Python ?\n",
        "ANS=Conditional statements control the flow of a program by executing code blocks based on conditions.\n",
        "They help make decisions and execute different code depending on input or state.\n",
        "\n",
        "# 12.How does the elif statement work ?\n",
        "ANS=elif is used to check multiple conditions after an if.\n",
        "Only the first true condition’s block is executed; others are skipped.\n",
        "\n",
        "# 13.What is the difference between for and while loops ?\n",
        "ANS=for loops iterate over a known range or sequence, while while loops run until a condtion becomes false.\n",
        "for is used when the number of iterations is known in advance.\n",
        "\n",
        "# 14.Describe a scenario where a while loop is more suitable than a for loop?\n",
        "ANS=A while loop is better when the number of iterati isn’t known, such as reading user input until they type “exit”.\n",
        "It checks a condition before each iteration.\n",
        "\n",
        "\n"
      ],
      "metadata": {
        "id": "jV-tZZ3pm5EM"
      }
    },
    {
      "cell_type": "markdown",
      "source": [
        "**PRACTICAL QUESTIONS**\n"
      ],
      "metadata": {
        "id": "NeQkplqcrdK4"
      }
    },
    {
      "cell_type": "markdown",
      "source": [
        "#1. Write a Python program to print \"Hello, World!"
      ],
      "metadata": {
        "id": "zs2T8ZmNrht0"
      }
    },
    {
      "cell_type": "code",
      "source": [
        "# 1. Print \"Hello, World!\"\n",
        "print(\"Hello, World!\")"
      ],
      "metadata": {
        "colab": {
          "base_uri": "https://localhost:8080/"
        },
        "id": "HuEQ-drErq7n",
        "outputId": "cebc6655-5f01-453e-ae40-5987ed7ebb2f"
      },
      "execution_count": 1,
      "outputs": [
        {
          "output_type": "stream",
          "name": "stdout",
          "text": [
            "Hello, World!\n"
          ]
        }
      ]
    },
    {
      "cell_type": "markdown",
      "source": [
        "# 2.Write a Python program that displays your name and age"
      ],
      "metadata": {
        "id": "FJevMwnFr0X8"
      }
    },
    {
      "cell_type": "code",
      "source": [
        "# 2. Display name and age\n",
        "name = \"Alice\"\n",
        "age = 25\n",
        "print(\"Name:\", name)\n",
        "print(\"Age:\", age)"
      ],
      "metadata": {
        "colab": {
          "base_uri": "https://localhost:8080/"
        },
        "id": "lrbEhB-nr-SZ",
        "outputId": "190b219a-66a9-4f05-82fb-6253daf16b6c"
      },
      "execution_count": 2,
      "outputs": [
        {
          "output_type": "stream",
          "name": "stdout",
          "text": [
            "Name: Alice\n",
            "Age: 25\n"
          ]
        }
      ]
    },
    {
      "cell_type": "markdown",
      "source": [
        "# 3.Write code to print all the pre-defined keywords in Python using the keyword library"
      ],
      "metadata": {
        "id": "lDWcAU8hsEq1"
      }
    },
    {
      "cell_type": "code",
      "source": [
        "# 3. Print all keywords\n",
        "import keyword\n",
        "print(keyword.kwlist)"
      ],
      "metadata": {
        "colab": {
          "base_uri": "https://localhost:8080/"
        },
        "id": "-BC3gIY7sKyJ",
        "outputId": "d6e73285-cd22-48c7-d670-d37c80e74210"
      },
      "execution_count": 3,
      "outputs": [
        {
          "output_type": "stream",
          "name": "stdout",
          "text": [
            "['False', 'None', 'True', 'and', 'as', 'assert', 'async', 'await', 'break', 'class', 'continue', 'def', 'del', 'elif', 'else', 'except', 'finally', 'for', 'from', 'global', 'if', 'import', 'in', 'is', 'lambda', 'nonlocal', 'not', 'or', 'pass', 'raise', 'return', 'try', 'while', 'with', 'yield']\n"
          ]
        }
      ]
    },
    {
      "cell_type": "markdown",
      "source": [
        "# 4.Write a program that checks if a given word is a Python keyword."
      ],
      "metadata": {
        "id": "vWJ1TlyIsRFm"
      }
    },
    {
      "cell_type": "code",
      "source": [
        "# 4. Check if a word is a keyword\n",
        "word = \"for\"\n",
        "print(f\"{word} is a keyword: {keyword.iskeyword(word)}\")\n"
      ],
      "metadata": {
        "colab": {
          "base_uri": "https://localhost:8080/"
        },
        "id": "qn02JojEsV-U",
        "outputId": "bfa43e5d-0431-47af-81c2-4c018e2542ff"
      },
      "execution_count": 4,
      "outputs": [
        {
          "output_type": "stream",
          "name": "stdout",
          "text": [
            "for is a keyword: True\n"
          ]
        }
      ]
    },
    {
      "cell_type": "markdown",
      "source": [
        "# 5.Create a list and tuple in Python, and demonstrate how attempting to change an element works differently"
      ],
      "metadata": {
        "id": "6rbizq4nsqZ8"
      }
    },
    {
      "cell_type": "code",
      "source": [
        "# 5. List and Tuple demonstration\n",
        "my_list = [1, 2, 3]\n",
        "my_tuple = (1, 2, 3)\n",
        "my_list[0] = 100  # This works\n",
        "# my_tuple[0] = 100  # This will raise an error\n",
        "print(\"List:\", my_list)\n",
        "print(\"Tuple:\", my_tuple)"
      ],
      "metadata": {
        "colab": {
          "base_uri": "https://localhost:8080/"
        },
        "id": "askPxXDvs4AS",
        "outputId": "70babfae-5ab0-441d-95fa-7a2e9d4a510f"
      },
      "execution_count": 5,
      "outputs": [
        {
          "output_type": "stream",
          "name": "stdout",
          "text": [
            "List: [100, 2, 3]\n",
            "Tuple: (1, 2, 3)\n"
          ]
        }
      ]
    },
    {
      "cell_type": "markdown",
      "source": [
        "# 6.Write a function to demonstrate the behavior of mutable and immutable arguments"
      ],
      "metadata": {
        "id": "HxSYQf0NtAS9"
      }
    },
    {
      "cell_type": "code",
      "source": [
        "# 6. Mutable vs Immutable\n",
        "def modify(x, y):\n",
        "    x += 1\n",
        "    y[0] += 1\n",
        "\n",
        "\n",
        "a = 10\n",
        "b = [10]\n",
        "modify(a, b)\n",
        "print(\"Immutable a:\", a)\n",
        "print(\"Mutable b:\", b)"
      ],
      "metadata": {
        "colab": {
          "base_uri": "https://localhost:8080/"
        },
        "id": "1gbyMzAItFTR",
        "outputId": "41cfb94a-5d99-4a20-fef2-a145df88ea4b"
      },
      "execution_count": 8,
      "outputs": [
        {
          "output_type": "stream",
          "name": "stdout",
          "text": [
            "Immutable a: 10\n",
            "Mutable b: [11]\n"
          ]
        }
      ]
    },
    {
      "cell_type": "markdown",
      "source": [
        "# 7.Write a program that performs basic arithmetic operations on two user-input numbers.\n",
        "\n"
      ],
      "metadata": {
        "id": "sh_dB_hatOIK"
      }
    },
    {
      "cell_type": "code",
      "source": [
        "x = float(input(\"Enter first number: \"))\n",
        "y = float(input(\"Enter second number: \"))\n",
        "print(\"Sum:\", x + y)\n",
        "print(\"Difference:\", x - y)\n",
        "print(\"Product:\", x * y)\n",
        "print(\"Quotient:\", x / y)"
      ],
      "metadata": {
        "colab": {
          "base_uri": "https://localhost:8080/"
        },
        "id": "-jVm29NOrbWQ",
        "outputId": "62b5e4d5-610a-4d00-ebcb-43f957e5db7a"
      },
      "execution_count": 9,
      "outputs": [
        {
          "output_type": "stream",
          "name": "stdout",
          "text": [
            "Enter first number: 5\n",
            "Enter second number: 5\n",
            "Sum: 10.0\n",
            "Difference: 0.0\n",
            "Product: 25.0\n",
            "Quotient: 1.0\n"
          ]
        }
      ]
    },
    {
      "cell_type": "markdown",
      "source": [
        "# 8.Write a program to demonstrate the use of logical operators."
      ],
      "metadata": {
        "id": "XaLbwmZ0ts4O"
      }
    },
    {
      "cell_type": "code",
      "source": [
        "# 8. Logical operators\n",
        "a = True\n",
        "b = False\n",
        "print(\"a and b:\", a and b)\n",
        "print(\"a or b:\", a or b)\n",
        "print(\"not a:\", not a)"
      ],
      "metadata": {
        "colab": {
          "base_uri": "https://localhost:8080/"
        },
        "id": "T4um2L6wty3t",
        "outputId": "a980410e-7e8a-4914-d72d-cf8a5cbfa395"
      },
      "execution_count": 10,
      "outputs": [
        {
          "output_type": "stream",
          "name": "stdout",
          "text": [
            "a and b: False\n",
            "a or b: True\n",
            "not a: False\n"
          ]
        }
      ]
    },
    {
      "cell_type": "markdown",
      "source": [
        "# 9.Write a Python program to convert user input from string to integer, float, and boolean types."
      ],
      "metadata": {
        "id": "qjLa5RGPt9jD"
      }
    },
    {
      "cell_type": "code",
      "source": [
        "# 9. Convert user input\n",
        "s = input(\"Enter value: \")\n",
        "print(\"As int:\", int(s))\n",
        "print(\"As float:\", float(s))\n",
        "print(\"As bool:\", bool(s))"
      ],
      "metadata": {
        "colab": {
          "base_uri": "https://localhost:8080/"
        },
        "id": "Tx38fjcnuDyM",
        "outputId": "6018f453-666d-4d81-e769-d55e332390b4"
      },
      "execution_count": 12,
      "outputs": [
        {
          "output_type": "stream",
          "name": "stdout",
          "text": [
            "Enter value: 1\n",
            "As int: 1\n",
            "As float: 1.0\n",
            "As bool: True\n"
          ]
        }
      ]
    },
    {
      "cell_type": "markdown",
      "source": [
        "# 10.Write code to demonstrate type casting with list elements."
      ],
      "metadata": {
        "id": "QIw2fnV8uNOK"
      }
    },
    {
      "cell_type": "code",
      "source": [
        "# 10. Type casting list elements\n",
        "lst = [\"1\", \"2\", \"3\"]\n",
        "int_list = [int(i) for i in lst]\n",
        "print(\"Integer list:\", int_list)"
      ],
      "metadata": {
        "colab": {
          "base_uri": "https://localhost:8080/"
        },
        "id": "ikxZoNhquSTJ",
        "outputId": "5c3c793d-9e4c-438f-f61f-539f6432af1f"
      },
      "execution_count": 13,
      "outputs": [
        {
          "output_type": "stream",
          "name": "stdout",
          "text": [
            "Integer list: [1, 2, 3]\n"
          ]
        }
      ]
    },
    {
      "cell_type": "markdown",
      "source": [
        "# 11. Write a program that checks if a number is positive, negative, or zero."
      ],
      "metadata": {
        "id": "vAVMgtChuY4n"
      }
    },
    {
      "cell_type": "code",
      "source": [
        "# 11. Positive, Negative, or Zero\n",
        "n = int(input(\"Enter a number: \"))\n",
        "if n > 0:\n",
        "    print(\"Positive\")\n",
        "elif n < 0:\n",
        "    print(\"Negative\")\n",
        "else:\n",
        "    print(\"Zero\")"
      ],
      "metadata": {
        "colab": {
          "base_uri": "https://localhost:8080/"
        },
        "id": "-lNUveVTufpA",
        "outputId": "86606028-0ecb-40ed-9bde-451e09119413"
      },
      "execution_count": 14,
      "outputs": [
        {
          "output_type": "stream",
          "name": "stdout",
          "text": [
            "Enter a number: 12\n",
            "Positive\n"
          ]
        }
      ]
    },
    {
      "cell_type": "markdown",
      "source": [
        "# 12.Write a for loop to print numbers from 1 to 10.\n",
        "\n"
      ],
      "metadata": {
        "id": "Fzvy6Aavug4r"
      }
    },
    {
      "cell_type": "code",
      "source": [
        "# 12. For loop 1 to 10\n",
        "for i in range(1, 11):\n",
        "    print(i)"
      ],
      "metadata": {
        "colab": {
          "base_uri": "https://localhost:8080/"
        },
        "id": "_sq_zcSBuqs0",
        "outputId": "7e060ad6-ed34-4723-d0cf-14272ba00e47"
      },
      "execution_count": 15,
      "outputs": [
        {
          "output_type": "stream",
          "name": "stdout",
          "text": [
            "1\n",
            "2\n",
            "3\n",
            "4\n",
            "5\n",
            "6\n",
            "7\n",
            "8\n",
            "9\n",
            "10\n"
          ]
        }
      ]
    },
    {
      "cell_type": "markdown",
      "source": [
        "# 13.Write a Python program to find the sum of all even numbers between 1 and 50."
      ],
      "metadata": {
        "id": "DGnxwaMCurLz"
      }
    },
    {
      "cell_type": "code",
      "source": [
        "# 13. Sum of even numbers 1–50\n",
        "total = 0\n",
        "for i in range(2, 51, 2):\n",
        "    total += i\n",
        "print(\"Sum of even numbers:\", total)"
      ],
      "metadata": {
        "colab": {
          "base_uri": "https://localhost:8080/"
        },
        "id": "qKLB0K6zuvl1",
        "outputId": "c0c2ff8b-4098-4776-c90b-c3751f678761"
      },
      "execution_count": 16,
      "outputs": [
        {
          "output_type": "stream",
          "name": "stdout",
          "text": [
            "Sum of even numbers: 650\n"
          ]
        }
      ]
    },
    {
      "cell_type": "markdown",
      "source": [
        "# 14.Write a program to reverse a string using a while loop."
      ],
      "metadata": {
        "id": "lDDdZH3huwET"
      }
    },
    {
      "cell_type": "code",
      "source": [
        "# 14. Reverse a string using while loop\n",
        "s = input(\"Enter a string: \")\n",
        "reversed_s = \"\"\n",
        "i = len(s) - 1\n",
        "while i >= 0:\n",
        "    reversed_s += s[i]\n",
        "    i -= 1\n",
        "print(\"Reversed:\", reversed_s)"
      ],
      "metadata": {
        "colab": {
          "base_uri": "https://localhost:8080/"
        },
        "id": "cc3Fji1Mu2JV",
        "outputId": "2384fee2-889c-45c9-b0bf-d035ffefcdba"
      },
      "execution_count": 17,
      "outputs": [
        {
          "output_type": "stream",
          "name": "stdout",
          "text": [
            "Enter a string: SAGAR\n",
            "Reversed: RAGAS\n"
          ]
        }
      ]
    },
    {
      "cell_type": "markdown",
      "source": [
        "# 15.Write a Python program to calculate the factorial of a number provided by the user using a while loop."
      ],
      "metadata": {
        "id": "bqbPs4luu2sX"
      }
    },
    {
      "cell_type": "code",
      "source": [
        "# 15. Factorial using while loop\n",
        "n = int(input(\"Enter number: \"))\n",
        "fact = 1\n",
        "while n > 0:\n",
        "    fact *= n\n",
        "    n -= 1\n",
        "print(\"Factorial:\", fact)"
      ],
      "metadata": {
        "colab": {
          "base_uri": "https://localhost:8080/"
        },
        "id": "fGfRWP5Eu8sd",
        "outputId": "17e613cd-b807-42d9-c66c-576b723d104e"
      },
      "execution_count": 18,
      "outputs": [
        {
          "output_type": "stream",
          "name": "stdout",
          "text": [
            "Enter number: 10\n",
            "Factorial: 3628800\n"
          ]
        }
      ]
    }
  ]
}